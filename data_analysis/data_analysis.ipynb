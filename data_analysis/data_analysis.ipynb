{
 "cells": [
  {
   "cell_type": "code",
   "execution_count": 1,
   "metadata": {
    "collapsed": true
   },
   "outputs": [],
   "source": [
    "import pandas as pd"
   ]
  },
  {
   "cell_type": "code",
   "execution_count": 2,
   "metadata": {
    "collapsed": true
   },
   "outputs": [],
   "source": [
    "import numpy as np"
   ]
  },
  {
   "cell_type": "code",
   "execution_count": 3,
   "metadata": {
    "collapsed": true
   },
   "outputs": [],
   "source": [
    "from pandas import DataFrame, Series"
   ]
  },
  {
   "cell_type": "code",
   "execution_count": 4,
   "metadata": {
    "collapsed": true
   },
   "outputs": [],
   "source": [
    "import pymongo"
   ]
  },
  {
   "cell_type": "code",
   "execution_count": 5,
   "metadata": {
    "collapsed": true
   },
   "outputs": [],
   "source": [
    "client = pymongo.MongoClient('localhost', 27017)\n",
    "db = client['DoubanMoive']\n",
    "collection  = db.get_collection('Moives')"
   ]
  },
  {
   "cell_type": "code",
   "execution_count": 6,
   "metadata": {
    "collapsed": true
   },
   "outputs": [],
   "source": [
    "all_result = list(collection.find({}))"
   ]
  },
  {
   "cell_type": "code",
   "execution_count": 7,
   "metadata": {
    "collapsed": false
   },
   "outputs": [
    {
     "data": {
      "text/plain": [
       "48997"
      ]
     },
     "execution_count": 7,
     "metadata": {},
     "output_type": "execute_result"
    }
   ],
   "source": [
    "len(all_result)"
   ]
  },
  {
   "cell_type": "code",
   "execution_count": 8,
   "metadata": {
    "collapsed": true
   },
   "outputs": [],
   "source": [
    "columns= ['Name', 'Country', 'Genre', 'Director', 'Time', 'Voters', 'Star', 'StarDistribution']"
   ]
  },
  {
   "cell_type": "code",
   "execution_count": 9,
   "metadata": {
    "collapsed": true
   },
   "outputs": [],
   "source": [
    "movies = DataFrame(all_result, columns=columns)"
   ]
  },
  {
   "cell_type": "code",
   "execution_count": 10,
   "metadata": {
    "collapsed": false
   },
   "outputs": [
    {
     "data": {
      "text/html": [
       "<div>\n",
       "<table border=\"1\" class=\"dataframe\">\n",
       "  <thead>\n",
       "    <tr style=\"text-align: right;\">\n",
       "      <th></th>\n",
       "      <th>Name</th>\n",
       "      <th>Country</th>\n",
       "      <th>Genre</th>\n",
       "      <th>Director</th>\n",
       "      <th>Time</th>\n",
       "      <th>Voters</th>\n",
       "      <th>Star</th>\n",
       "      <th>StarDistribution</th>\n",
       "    </tr>\n",
       "  </thead>\n",
       "  <tbody>\n",
       "    <tr>\n",
       "      <th>0</th>\n",
       "      <td>机械师2：复活 Mechanic: Resurrection</td>\n",
       "      <td>[法国, 美国]</td>\n",
       "      <td>动作犯罪</td>\n",
       "      <td>丹尼斯·甘塞尔</td>\n",
       "      <td>(2016)</td>\n",
       "      <td>19272</td>\n",
       "      <td>5.7</td>\n",
       "      <td>5.8%14.3%47.0%26.4%6.5%</td>\n",
       "    </tr>\n",
       "    <tr>\n",
       "      <th>1</th>\n",
       "      <td>侠探杰克：永不回头 Jack Reacher: Never Go Back</td>\n",
       "      <td>[美国]</td>\n",
       "      <td>剧情动作悬疑惊悚犯罪</td>\n",
       "      <td>爱德华·兹威克</td>\n",
       "      <td>(2016)</td>\n",
       "      <td>5269</td>\n",
       "      <td>6.2</td>\n",
       "      <td>4.3%20.4%57.2%15.3%2.8%</td>\n",
       "    </tr>\n",
       "  </tbody>\n",
       "</table>\n",
       "</div>"
      ],
      "text/plain": [
       "                                    Name   Country       Genre Director  \\\n",
       "0         机械师2：复活 Mechanic: Resurrection  [法国, 美国]        动作犯罪  丹尼斯·甘塞尔   \n",
       "1  侠探杰克：永不回头 Jack Reacher: Never Go Back      [美国]  剧情动作悬疑惊悚犯罪  爱德华·兹威克   \n",
       "\n",
       "     Time Voters Star         StarDistribution  \n",
       "0  (2016)  19272  5.7  5.8%14.3%47.0%26.4%6.5%  \n",
       "1  (2016)   5269  6.2  4.3%20.4%57.2%15.3%2.8%  "
      ]
     },
     "execution_count": 10,
     "metadata": {},
     "output_type": "execute_result"
    }
   ],
   "source": [
    "movies[:2]"
   ]
  },
  {
   "cell_type": "code",
   "execution_count": 11,
   "metadata": {
    "collapsed": false
   },
   "outputs": [
    {
     "data": {
      "text/plain": [
       "Name                48997\n",
       "Country             48997\n",
       "Genre               48997\n",
       "Director            48997\n",
       "Time                48997\n",
       "Voters              47194\n",
       "Star                47194\n",
       "StarDistribution    47194\n",
       "dtype: int64"
      ]
     },
     "execution_count": 11,
     "metadata": {},
     "output_type": "execute_result"
    }
   ],
   "source": [
    "movies.count()"
   ]
  },
  {
   "cell_type": "code",
   "execution_count": 14,
   "metadata": {
    "collapsed": true
   },
   "outputs": [],
   "source": [
    "movies1 = movies.drop_duplicates('Name') #movies1：去重后的数据"
   ]
  },
  {
   "cell_type": "code",
   "execution_count": 15,
   "metadata": {
    "collapsed": false
   },
   "outputs": [
    {
     "data": {
      "text/plain": [
       "Name                48133\n",
       "Country             48133\n",
       "Genre               48133\n",
       "Director            48133\n",
       "Time                48133\n",
       "Voters              46348\n",
       "Star                46348\n",
       "StarDistribution    46348\n",
       "dtype: int64"
      ]
     },
     "execution_count": 15,
     "metadata": {},
     "output_type": "execute_result"
    }
   ],
   "source": [
    "movies1.count()"
   ]
  },
  {
   "cell_type": "code",
   "execution_count": 16,
   "metadata": {
    "collapsed": true
   },
   "outputs": [],
   "source": [
    "movies2 = movies1.fillna(0) #movies2：处理缺失数据后的数据"
   ]
  },
  {
   "cell_type": "code",
   "execution_count": 17,
   "metadata": {
    "collapsed": false
   },
   "outputs": [
    {
     "data": {
      "text/plain": [
       "Name                48133\n",
       "Country             48133\n",
       "Genre               48133\n",
       "Director            48133\n",
       "Time                48133\n",
       "Voters              48133\n",
       "Star                48133\n",
       "StarDistribution    48133\n",
       "dtype: int64"
      ]
     },
     "execution_count": 17,
     "metadata": {},
     "output_type": "execute_result"
    }
   ],
   "source": [
    "movies2.count()"
   ]
  },
  {
   "cell_type": "code",
   "execution_count": 18,
   "metadata": {
    "collapsed": true
   },
   "outputs": [],
   "source": [
    "replace_columns = {'Voters':'VoterNumber'}"
   ]
  },
  {
   "cell_type": "code",
   "execution_count": 19,
   "metadata": {
    "collapsed": true
   },
   "outputs": [],
   "source": [
    "movies3 = movies2.rename(columns = replace_columns) #moives3：重新命名columns"
   ]
  },
  {
   "cell_type": "code",
   "execution_count": 20,
   "metadata": {
    "collapsed": false
   },
   "outputs": [
    {
     "data": {
      "text/plain": [
       "Index(['Name', 'Country', 'Genre', 'Director', 'Time', 'VoterNumber', 'Star',\n",
       "       'StarDistribution'],\n",
       "      dtype='object')"
      ]
     },
     "execution_count": 20,
     "metadata": {},
     "output_type": "execute_result"
    }
   ],
   "source": [
    "movies3.columns"
   ]
  },
  {
   "cell_type": "code",
   "execution_count": 21,
   "metadata": {
    "collapsed": true
   },
   "outputs": [],
   "source": [
    "def get_int(obj):\n",
    "    return int(obj)"
   ]
  },
  {
   "cell_type": "code",
   "execution_count": 22,
   "metadata": {
    "collapsed": true
   },
   "outputs": [],
   "source": [
    "def get_float(obj):\n",
    "    return float(obj)"
   ]
  },
  {
   "cell_type": "code",
   "execution_count": 23,
   "metadata": {
    "collapsed": false
   },
   "outputs": [
    {
     "data": {
      "text/plain": [
       "'19272'"
      ]
     },
     "execution_count": 23,
     "metadata": {},
     "output_type": "execute_result"
    }
   ],
   "source": [
    "movies3.ix[0]['VoterNumber']"
   ]
  },
  {
   "cell_type": "code",
   "execution_count": 24,
   "metadata": {
    "collapsed": true
   },
   "outputs": [],
   "source": [
    "movies3.VoterNumber = movies3.VoterNumber.map(get_int) #将VoterNumber类型转化为int型，原来为string"
   ]
  },
  {
   "cell_type": "code",
   "execution_count": 25,
   "metadata": {
    "collapsed": false
   },
   "outputs": [
    {
     "data": {
      "text/plain": [
       "19272"
      ]
     },
     "execution_count": 25,
     "metadata": {},
     "output_type": "execute_result"
    }
   ],
   "source": [
    "movies3.ix[0]['VoterNumber']"
   ]
  },
  {
   "cell_type": "code",
   "execution_count": 26,
   "metadata": {
    "collapsed": false
   },
   "outputs": [
    {
     "data": {
      "text/plain": [
       "'5.7'"
      ]
     },
     "execution_count": 26,
     "metadata": {},
     "output_type": "execute_result"
    }
   ],
   "source": [
    "movies3.ix[0]['Star']"
   ]
  },
  {
   "cell_type": "code",
   "execution_count": 27,
   "metadata": {
    "collapsed": true
   },
   "outputs": [],
   "source": [
    "movies3.Star = movies3.Star.map(get_float) #将Star类型转化为float型，原来为string"
   ]
  },
  {
   "cell_type": "code",
   "execution_count": 28,
   "metadata": {
    "collapsed": false
   },
   "outputs": [
    {
     "data": {
      "text/plain": [
       "5.7000000000000002"
      ]
     },
     "execution_count": 28,
     "metadata": {},
     "output_type": "execute_result"
    }
   ],
   "source": [
    "movies3.ix[0]['Star']"
   ]
  },
  {
   "cell_type": "code",
   "execution_count": 29,
   "metadata": {
    "collapsed": false
   },
   "outputs": [
    {
     "data": {
      "text/html": [
       "<div>\n",
       "<table border=\"1\" class=\"dataframe\">\n",
       "  <thead>\n",
       "    <tr style=\"text-align: right;\">\n",
       "      <th></th>\n",
       "      <th>Name</th>\n",
       "      <th>Country</th>\n",
       "      <th>Genre</th>\n",
       "      <th>Director</th>\n",
       "      <th>Time</th>\n",
       "      <th>VoterNumber</th>\n",
       "      <th>Star</th>\n",
       "      <th>StarDistribution</th>\n",
       "    </tr>\n",
       "  </thead>\n",
       "  <tbody>\n",
       "    <tr>\n",
       "      <th>0</th>\n",
       "      <td>机械师2：复活 Mechanic: Resurrection</td>\n",
       "      <td>[法国, 美国]</td>\n",
       "      <td>动作犯罪</td>\n",
       "      <td>丹尼斯·甘塞尔</td>\n",
       "      <td>(2016)</td>\n",
       "      <td>19272</td>\n",
       "      <td>5.7</td>\n",
       "      <td>5.8%14.3%47.0%26.4%6.5%</td>\n",
       "    </tr>\n",
       "    <tr>\n",
       "      <th>1</th>\n",
       "      <td>侠探杰克：永不回头 Jack Reacher: Never Go Back</td>\n",
       "      <td>[美国]</td>\n",
       "      <td>剧情动作悬疑惊悚犯罪</td>\n",
       "      <td>爱德华·兹威克</td>\n",
       "      <td>(2016)</td>\n",
       "      <td>5269</td>\n",
       "      <td>6.2</td>\n",
       "      <td>4.3%20.4%57.2%15.3%2.8%</td>\n",
       "    </tr>\n",
       "    <tr>\n",
       "      <th>2</th>\n",
       "      <td>湄公河行动</td>\n",
       "      <td>[中国大陆, 香港]</td>\n",
       "      <td>动作犯罪</td>\n",
       "      <td>林超贤</td>\n",
       "      <td>(2016)</td>\n",
       "      <td>190658</td>\n",
       "      <td>8.2</td>\n",
       "      <td>33.2%46.0%18.1%2.1%0.6%</td>\n",
       "    </tr>\n",
       "    <tr>\n",
       "      <th>3</th>\n",
       "      <td>惊天破</td>\n",
       "      <td>[中国大陆, 香港]</td>\n",
       "      <td>剧情动作悬疑犯罪</td>\n",
       "      <td>吴品儒</td>\n",
       "      <td>(2016)</td>\n",
       "      <td>4544</td>\n",
       "      <td>3.9</td>\n",
       "      <td>0.8%4.3%21.5%33.4%40.0%</td>\n",
       "    </tr>\n",
       "    <tr>\n",
       "      <th>4</th>\n",
       "      <td>圆梦巨人 The BFG</td>\n",
       "      <td>[美国, 英国]</td>\n",
       "      <td>奇幻冒险</td>\n",
       "      <td>史蒂文·斯皮尔伯格</td>\n",
       "      <td>(2016)</td>\n",
       "      <td>16015</td>\n",
       "      <td>6.8</td>\n",
       "      <td>11.8%30.9%45.0%10.5%1.7%</td>\n",
       "    </tr>\n",
       "    <tr>\n",
       "      <th>5</th>\n",
       "      <td>龙珠Z：复活的弗利萨 ドラゴンボールZ 復活のF</td>\n",
       "      <td>[日本]</td>\n",
       "      <td>动画</td>\n",
       "      <td>山室直儀</td>\n",
       "      <td>(2015)</td>\n",
       "      <td>5449</td>\n",
       "      <td>5.8</td>\n",
       "      <td>5.0%15.3%50.1%23.2%6.4%</td>\n",
       "    </tr>\n",
       "    <tr>\n",
       "      <th>6</th>\n",
       "      <td>从你的全世界路过</td>\n",
       "      <td>[中国大陆]</td>\n",
       "      <td>喜剧爱情</td>\n",
       "      <td>张一白</td>\n",
       "      <td>(2016)</td>\n",
       "      <td>84648</td>\n",
       "      <td>5.5</td>\n",
       "      <td>7.1%16.7%37.2%24.0%15.0%</td>\n",
       "    </tr>\n",
       "    <tr>\n",
       "      <th>7</th>\n",
       "      <td>凶手还未睡 兇手還未睡</td>\n",
       "      <td>[香港]</td>\n",
       "      <td>剧情悬疑惊悚</td>\n",
       "      <td>邱礼涛</td>\n",
       "      <td>(2016)</td>\n",
       "      <td>236</td>\n",
       "      <td>4.5</td>\n",
       "      <td>2.9%8.8%25.5%35.3%27.5%</td>\n",
       "    </tr>\n",
       "    <tr>\n",
       "      <th>8</th>\n",
       "      <td>遵义会议</td>\n",
       "      <td>[中国大陆]</td>\n",
       "      <td>历史战争</td>\n",
       "      <td>刘星胡明刚于兰</td>\n",
       "      <td>(2016)</td>\n",
       "      <td>149</td>\n",
       "      <td>2.4</td>\n",
       "      <td>2.1%0.0%0.0%12.5%85.4%</td>\n",
       "    </tr>\n",
       "    <tr>\n",
       "      <th>9</th>\n",
       "      <td>鲁滨逊漂流记 Robinson Crusoe</td>\n",
       "      <td>[比利时, 法国]</td>\n",
       "      <td>喜剧动画冒险</td>\n",
       "      <td>文森特·凯斯特鲁特本·斯塔森</td>\n",
       "      <td>(2016)</td>\n",
       "      <td>1746</td>\n",
       "      <td>5.6</td>\n",
       "      <td>5.8%12.5%46.4%24.6%10.5%</td>\n",
       "    </tr>\n",
       "  </tbody>\n",
       "</table>\n",
       "</div>"
      ],
      "text/plain": [
       "                                    Name     Country       Genre  \\\n",
       "0         机械师2：复活 Mechanic: Resurrection    [法国, 美国]        动作犯罪   \n",
       "1  侠探杰克：永不回头 Jack Reacher: Never Go Back        [美国]  剧情动作悬疑惊悚犯罪   \n",
       "2                                  湄公河行动  [中国大陆, 香港]        动作犯罪   \n",
       "3                                    惊天破  [中国大陆, 香港]    剧情动作悬疑犯罪   \n",
       "4                           圆梦巨人 The BFG    [美国, 英国]        奇幻冒险   \n",
       "5               龙珠Z：复活的弗利萨 ドラゴンボールZ 復活のF        [日本]          动画   \n",
       "6                               从你的全世界路过      [中国大陆]        喜剧爱情   \n",
       "7                            凶手还未睡 兇手還未睡        [香港]      剧情悬疑惊悚   \n",
       "8                                   遵义会议      [中国大陆]        历史战争   \n",
       "9                 鲁滨逊漂流记 Robinson Crusoe   [比利时, 法国]      喜剧动画冒险   \n",
       "\n",
       "         Director    Time  VoterNumber  Star          StarDistribution  \n",
       "0         丹尼斯·甘塞尔  (2016)        19272   5.7   5.8%14.3%47.0%26.4%6.5%  \n",
       "1         爱德华·兹威克  (2016)         5269   6.2   4.3%20.4%57.2%15.3%2.8%  \n",
       "2             林超贤  (2016)       190658   8.2   33.2%46.0%18.1%2.1%0.6%  \n",
       "3             吴品儒  (2016)         4544   3.9   0.8%4.3%21.5%33.4%40.0%  \n",
       "4       史蒂文·斯皮尔伯格  (2016)        16015   6.8  11.8%30.9%45.0%10.5%1.7%  \n",
       "5            山室直儀  (2015)         5449   5.8   5.0%15.3%50.1%23.2%6.4%  \n",
       "6             张一白  (2016)        84648   5.5  7.1%16.7%37.2%24.0%15.0%  \n",
       "7             邱礼涛  (2016)          236   4.5   2.9%8.8%25.5%35.3%27.5%  \n",
       "8         刘星胡明刚于兰  (2016)          149   2.4    2.1%0.0%0.0%12.5%85.4%  \n",
       "9  文森特·凯斯特鲁特本·斯塔森  (2016)         1746   5.6  5.8%12.5%46.4%24.6%10.5%  "
      ]
     },
     "execution_count": 29,
     "metadata": {},
     "output_type": "execute_result"
    }
   ],
   "source": [
    "movies3[:10]"
   ]
  },
  {
   "cell_type": "code",
   "execution_count": 30,
   "metadata": {
    "collapsed": false
   },
   "outputs": [
    {
     "name": "stdout",
     "output_type": "stream",
     "text": [
      "<class 'pandas.core.frame.DataFrame'>\n",
      "Int64Index: 48133 entries, 0 to 48996\n",
      "Data columns (total 8 columns):\n",
      "Name                48133 non-null object\n",
      "Country             48133 non-null object\n",
      "Genre               48133 non-null object\n",
      "Director            48133 non-null object\n",
      "Time                48133 non-null object\n",
      "VoterNumber         48133 non-null int64\n",
      "Star                48133 non-null float64\n",
      "StarDistribution    48133 non-null object\n",
      "dtypes: float64(1), int64(1), object(6)\n",
      "memory usage: 3.3+ MB\n"
     ]
    }
   ],
   "source": [
    "movies3.info()  #查看数据类型"
   ]
  },
  {
   "cell_type": "code",
   "execution_count": 33,
   "metadata": {
    "collapsed": true
   },
   "outputs": [],
   "source": [
    "movies4 = movies3[ movies3['VoterNumber'] > 1000 ]"
   ]
  },
  {
   "cell_type": "code",
   "execution_count": 34,
   "metadata": {
    "collapsed": false
   },
   "outputs": [
    {
     "name": "stdout",
     "output_type": "stream",
     "text": [
      "<class 'pandas.core.frame.DataFrame'>\n",
      "Int64Index: 15150 entries, 0 to 48994\n",
      "Data columns (total 8 columns):\n",
      "Name                15150 non-null object\n",
      "Country             15150 non-null object\n",
      "Genre               15150 non-null object\n",
      "Director            15150 non-null object\n",
      "Time                15150 non-null object\n",
      "VoterNumber         15150 non-null int64\n",
      "Star                15150 non-null float64\n",
      "StarDistribution    15150 non-null object\n",
      "dtypes: float64(1), int64(1), object(6)\n",
      "memory usage: 1.0+ MB\n"
     ]
    }
   ],
   "source": [
    "movies4.info()"
   ]
  },
  {
   "cell_type": "code",
   "execution_count": 35,
   "metadata": {
    "collapsed": true
   },
   "outputs": [],
   "source": [
    "#movies4将用于制作图像，将评分人数>1000的作品进行绘图"
   ]
  },
  {
   "cell_type": "code",
   "execution_count": 37,
   "metadata": {
    "collapsed": false
   },
   "outputs": [
    {
     "name": "stderr",
     "output_type": "stream",
     "text": [
      "E:\\anaconda\\lib\\site-packages\\ipykernel\\__main__.py:1: FutureWarning: by argument to sort_index is deprecated, pls use .sort_values(by=...)\n",
      "  if __name__ == '__main__':\n"
     ]
    }
   ],
   "source": [
    "movies_data = (movies4.sort_index(by=['Star','VoterNumber'],ascending=[False,False]))  "
   ]
  },
  {
   "cell_type": "code",
   "execution_count": 38,
   "metadata": {
    "collapsed": false
   },
   "outputs": [
    {
     "data": {
      "text/html": [
       "<div>\n",
       "<table border=\"1\" class=\"dataframe\">\n",
       "  <thead>\n",
       "    <tr style=\"text-align: right;\">\n",
       "      <th></th>\n",
       "      <th>Name</th>\n",
       "      <th>Country</th>\n",
       "      <th>Genre</th>\n",
       "      <th>Director</th>\n",
       "      <th>Time</th>\n",
       "      <th>VoterNumber</th>\n",
       "      <th>Star</th>\n",
       "      <th>StarDistribution</th>\n",
       "    </tr>\n",
       "  </thead>\n",
       "  <tbody>\n",
       "    <tr>\n",
       "      <th>7361</th>\n",
       "      <td>老友记 第十季 Friends Season 10</td>\n",
       "      <td>[美国]</td>\n",
       "      <td>喜剧爱情</td>\n",
       "      <td>Kevin Bright</td>\n",
       "      <td>(2003)</td>\n",
       "      <td>37085</td>\n",
       "      <td>9.8</td>\n",
       "      <td>90.4%8.2%1.2%0.1%0.1%</td>\n",
       "    </tr>\n",
       "    <tr>\n",
       "      <th>37616</th>\n",
       "      <td>人类星球 Human Planet</td>\n",
       "      <td>[英国]</td>\n",
       "      <td>纪录片</td>\n",
       "      <td>Tom Hugh-JonesTuppence StoneNicolas BrownMark ...</td>\n",
       "      <td>(2011)</td>\n",
       "      <td>8397</td>\n",
       "      <td>9.8</td>\n",
       "      <td>89.5%9.3%1.0%0.1%0.2%</td>\n",
       "    </tr>\n",
       "    <tr>\n",
       "      <th>14809</th>\n",
       "      <td>是，大臣  第二季 Yes Minister Season 2</td>\n",
       "      <td>[英国]</td>\n",
       "      <td>喜剧</td>\n",
       "      <td>Peter WhitmoreSydney Lotterby</td>\n",
       "      <td>(1981)</td>\n",
       "      <td>5031</td>\n",
       "      <td>9.8</td>\n",
       "      <td>91.1%8.0%0.8%0.0%0.0%</td>\n",
       "    </tr>\n",
       "    <tr>\n",
       "      <th>31714</th>\n",
       "      <td>是，大臣  第三季 Yes Minister Season 3</td>\n",
       "      <td>[英国]</td>\n",
       "      <td>喜剧</td>\n",
       "      <td>Sydney LotterbyPeter Whitmore</td>\n",
       "      <td>(1982)</td>\n",
       "      <td>4865</td>\n",
       "      <td>9.8</td>\n",
       "      <td>91.5%7.2%1.0%0.1%0.2%</td>\n",
       "    </tr>\n",
       "    <tr>\n",
       "      <th>24148</th>\n",
       "      <td>是，首相  第二季 Yes, Prime Minister Season 2</td>\n",
       "      <td>[英国]</td>\n",
       "      <td>喜剧</td>\n",
       "      <td>Peter WhitmoreSydney Lotterby</td>\n",
       "      <td>(1987)</td>\n",
       "      <td>4192</td>\n",
       "      <td>9.8</td>\n",
       "      <td>90.7%8.3%0.8%0.0%0.2%</td>\n",
       "    </tr>\n",
       "  </tbody>\n",
       "</table>\n",
       "</div>"
      ],
      "text/plain": [
       "                                         Name Country Genre  \\\n",
       "7361                老友记 第十季 Friends Season 10    [美国]  喜剧爱情   \n",
       "37616                       人类星球 Human Planet    [英国]   纪录片   \n",
       "14809         是，大臣  第二季 Yes Minister Season 2    [英国]    喜剧   \n",
       "31714         是，大臣  第三季 Yes Minister Season 3    [英国]    喜剧   \n",
       "24148  是，首相  第二季 Yes, Prime Minister Season 2    [英国]    喜剧   \n",
       "\n",
       "                                                Director    Time  VoterNumber  \\\n",
       "7361                                        Kevin Bright  (2003)        37085   \n",
       "37616  Tom Hugh-JonesTuppence StoneNicolas BrownMark ...  (2011)         8397   \n",
       "14809                      Peter WhitmoreSydney Lotterby  (1981)         5031   \n",
       "31714                      Sydney LotterbyPeter Whitmore  (1982)         4865   \n",
       "24148                      Peter WhitmoreSydney Lotterby  (1987)         4192   \n",
       "\n",
       "       Star       StarDistribution  \n",
       "7361    9.8  90.4%8.2%1.2%0.1%0.1%  \n",
       "37616   9.8  89.5%9.3%1.0%0.1%0.2%  \n",
       "14809   9.8  91.1%8.0%0.8%0.0%0.0%  \n",
       "31714   9.8  91.5%7.2%1.0%0.1%0.2%  \n",
       "24148   9.8  90.7%8.3%0.8%0.0%0.2%  "
      ]
     },
     "execution_count": 38,
     "metadata": {},
     "output_type": "execute_result"
    }
   ],
   "source": [
    "movies_data[:5]"
   ]
  },
  {
   "cell_type": "code",
   "execution_count": 39,
   "metadata": {
    "collapsed": true
   },
   "outputs": [],
   "source": [
    "_ =  movies_data.set_index('Name',inplace=True)"
   ]
  },
  {
   "cell_type": "code",
   "execution_count": 40,
   "metadata": {
    "collapsed": false
   },
   "outputs": [
    {
     "data": {
      "text/html": [
       "<div>\n",
       "<table border=\"1\" class=\"dataframe\">\n",
       "  <thead>\n",
       "    <tr style=\"text-align: right;\">\n",
       "      <th></th>\n",
       "      <th>Country</th>\n",
       "      <th>Genre</th>\n",
       "      <th>Director</th>\n",
       "      <th>Time</th>\n",
       "      <th>VoterNumber</th>\n",
       "      <th>Star</th>\n",
       "      <th>StarDistribution</th>\n",
       "    </tr>\n",
       "    <tr>\n",
       "      <th>Name</th>\n",
       "      <th></th>\n",
       "      <th></th>\n",
       "      <th></th>\n",
       "      <th></th>\n",
       "      <th></th>\n",
       "      <th></th>\n",
       "      <th></th>\n",
       "    </tr>\n",
       "  </thead>\n",
       "  <tbody>\n",
       "    <tr>\n",
       "      <th>老友记 第十季 Friends Season 10</th>\n",
       "      <td>[美国]</td>\n",
       "      <td>喜剧爱情</td>\n",
       "      <td>Kevin Bright</td>\n",
       "      <td>(2003)</td>\n",
       "      <td>37085</td>\n",
       "      <td>9.8</td>\n",
       "      <td>90.4%8.2%1.2%0.1%0.1%</td>\n",
       "    </tr>\n",
       "    <tr>\n",
       "      <th>人类星球 Human Planet</th>\n",
       "      <td>[英国]</td>\n",
       "      <td>纪录片</td>\n",
       "      <td>Tom Hugh-JonesTuppence StoneNicolas BrownMark ...</td>\n",
       "      <td>(2011)</td>\n",
       "      <td>8397</td>\n",
       "      <td>9.8</td>\n",
       "      <td>89.5%9.3%1.0%0.1%0.2%</td>\n",
       "    </tr>\n",
       "    <tr>\n",
       "      <th>是，大臣  第二季 Yes Minister Season 2</th>\n",
       "      <td>[英国]</td>\n",
       "      <td>喜剧</td>\n",
       "      <td>Peter WhitmoreSydney Lotterby</td>\n",
       "      <td>(1981)</td>\n",
       "      <td>5031</td>\n",
       "      <td>9.8</td>\n",
       "      <td>91.1%8.0%0.8%0.0%0.0%</td>\n",
       "    </tr>\n",
       "    <tr>\n",
       "      <th>是，大臣  第三季 Yes Minister Season 3</th>\n",
       "      <td>[英国]</td>\n",
       "      <td>喜剧</td>\n",
       "      <td>Sydney LotterbyPeter Whitmore</td>\n",
       "      <td>(1982)</td>\n",
       "      <td>4865</td>\n",
       "      <td>9.8</td>\n",
       "      <td>91.5%7.2%1.0%0.1%0.2%</td>\n",
       "    </tr>\n",
       "    <tr>\n",
       "      <th>是，首相  第二季 Yes, Prime Minister Season 2</th>\n",
       "      <td>[英国]</td>\n",
       "      <td>喜剧</td>\n",
       "      <td>Peter WhitmoreSydney Lotterby</td>\n",
       "      <td>(1987)</td>\n",
       "      <td>4192</td>\n",
       "      <td>9.8</td>\n",
       "      <td>90.7%8.3%0.8%0.0%0.2%</td>\n",
       "    </tr>\n",
       "  </tbody>\n",
       "</table>\n",
       "</div>"
      ],
      "text/plain": [
       "                                       Country Genre  \\\n",
       "Name                                                   \n",
       "老友记 第十季 Friends Season 10                 [美国]  喜剧爱情   \n",
       "人类星球 Human Planet                         [英国]   纪录片   \n",
       "是，大臣  第二季 Yes Minister Season 2           [英国]    喜剧   \n",
       "是，大臣  第三季 Yes Minister Season 3           [英国]    喜剧   \n",
       "是，首相  第二季 Yes, Prime Minister Season 2    [英国]    喜剧   \n",
       "\n",
       "                                                                                 Director  \\\n",
       "Name                                                                                        \n",
       "老友记 第十季 Friends Season 10                                                    Kevin Bright   \n",
       "人类星球 Human Planet                       Tom Hugh-JonesTuppence StoneNicolas BrownMark ...   \n",
       "是，大臣  第二季 Yes Minister Season 2                             Peter WhitmoreSydney Lotterby   \n",
       "是，大臣  第三季 Yes Minister Season 3                             Sydney LotterbyPeter Whitmore   \n",
       "是，首相  第二季 Yes, Prime Minister Season 2                      Peter WhitmoreSydney Lotterby   \n",
       "\n",
       "                                          Time  VoterNumber  Star  \\\n",
       "Name                                                                \n",
       "老友记 第十季 Friends Season 10               (2003)        37085   9.8   \n",
       "人类星球 Human Planet                       (2011)         8397   9.8   \n",
       "是，大臣  第二季 Yes Minister Season 2         (1981)         5031   9.8   \n",
       "是，大臣  第三季 Yes Minister Season 3         (1982)         4865   9.8   \n",
       "是，首相  第二季 Yes, Prime Minister Season 2  (1987)         4192   9.8   \n",
       "\n",
       "                                             StarDistribution  \n",
       "Name                                                           \n",
       "老友记 第十季 Friends Season 10               90.4%8.2%1.2%0.1%0.1%  \n",
       "人类星球 Human Planet                       89.5%9.3%1.0%0.1%0.2%  \n",
       "是，大臣  第二季 Yes Minister Season 2         91.1%8.0%0.8%0.0%0.0%  \n",
       "是，大臣  第三季 Yes Minister Season 3         91.5%7.2%1.0%0.1%0.2%  \n",
       "是，首相  第二季 Yes, Prime Minister Season 2  90.7%8.3%0.8%0.0%0.2%  "
      ]
     },
     "execution_count": 40,
     "metadata": {},
     "output_type": "execute_result"
    }
   ],
   "source": [
    "movies_data[:5]"
   ]
  },
  {
   "cell_type": "code",
   "execution_count": 41,
   "metadata": {
    "collapsed": true
   },
   "outputs": [],
   "source": [
    "dummies = DataFrame(np.zeros((len(movies_data), 5)), index = movies_data.index, columns = ['FiveStar', 'FourStar', 'ThreeStar', 'TwoStar', 'OneStar'])"
   ]
  },
  {
   "cell_type": "code",
   "execution_count": 42,
   "metadata": {
    "collapsed": false
   },
   "outputs": [
    {
     "data": {
      "text/html": [
       "<div>\n",
       "<table border=\"1\" class=\"dataframe\">\n",
       "  <thead>\n",
       "    <tr style=\"text-align: right;\">\n",
       "      <th></th>\n",
       "      <th>FiveStar</th>\n",
       "      <th>FourStar</th>\n",
       "      <th>ThreeStar</th>\n",
       "      <th>TwoStar</th>\n",
       "      <th>OneStar</th>\n",
       "    </tr>\n",
       "    <tr>\n",
       "      <th>Name</th>\n",
       "      <th></th>\n",
       "      <th></th>\n",
       "      <th></th>\n",
       "      <th></th>\n",
       "      <th></th>\n",
       "    </tr>\n",
       "  </thead>\n",
       "  <tbody>\n",
       "    <tr>\n",
       "      <th>老友记 第十季 Friends Season 10</th>\n",
       "      <td>0.0</td>\n",
       "      <td>0.0</td>\n",
       "      <td>0.0</td>\n",
       "      <td>0.0</td>\n",
       "      <td>0.0</td>\n",
       "    </tr>\n",
       "    <tr>\n",
       "      <th>人类星球 Human Planet</th>\n",
       "      <td>0.0</td>\n",
       "      <td>0.0</td>\n",
       "      <td>0.0</td>\n",
       "      <td>0.0</td>\n",
       "      <td>0.0</td>\n",
       "    </tr>\n",
       "    <tr>\n",
       "      <th>是，大臣  第二季 Yes Minister Season 2</th>\n",
       "      <td>0.0</td>\n",
       "      <td>0.0</td>\n",
       "      <td>0.0</td>\n",
       "      <td>0.0</td>\n",
       "      <td>0.0</td>\n",
       "    </tr>\n",
       "    <tr>\n",
       "      <th>是，大臣  第三季 Yes Minister Season 3</th>\n",
       "      <td>0.0</td>\n",
       "      <td>0.0</td>\n",
       "      <td>0.0</td>\n",
       "      <td>0.0</td>\n",
       "      <td>0.0</td>\n",
       "    </tr>\n",
       "    <tr>\n",
       "      <th>是，首相  第二季 Yes, Prime Minister Season 2</th>\n",
       "      <td>0.0</td>\n",
       "      <td>0.0</td>\n",
       "      <td>0.0</td>\n",
       "      <td>0.0</td>\n",
       "      <td>0.0</td>\n",
       "    </tr>\n",
       "  </tbody>\n",
       "</table>\n",
       "</div>"
      ],
      "text/plain": [
       "                                        FiveStar  FourStar  ThreeStar  \\\n",
       "Name                                                                    \n",
       "老友记 第十季 Friends Season 10                    0.0       0.0        0.0   \n",
       "人类星球 Human Planet                            0.0       0.0        0.0   \n",
       "是，大臣  第二季 Yes Minister Season 2              0.0       0.0        0.0   \n",
       "是，大臣  第三季 Yes Minister Season 3              0.0       0.0        0.0   \n",
       "是，首相  第二季 Yes, Prime Minister Season 2       0.0       0.0        0.0   \n",
       "\n",
       "                                        TwoStar  OneStar  \n",
       "Name                                                      \n",
       "老友记 第十季 Friends Season 10                   0.0      0.0  \n",
       "人类星球 Human Planet                           0.0      0.0  \n",
       "是，大臣  第二季 Yes Minister Season 2             0.0      0.0  \n",
       "是，大臣  第三季 Yes Minister Season 3             0.0      0.0  \n",
       "是，首相  第二季 Yes, Prime Minister Season 2      0.0      0.0  "
      ]
     },
     "execution_count": 42,
     "metadata": {},
     "output_type": "execute_result"
    }
   ],
   "source": [
    "dummies[:5]"
   ]
  },
  {
   "cell_type": "code",
   "execution_count": 43,
   "metadata": {
    "collapsed": false
   },
   "outputs": [
    {
     "data": {
      "text/plain": [
       "['89.5', '9.3', '1.0', '0.1', '0.2', '']"
      ]
     },
     "execution_count": 43,
     "metadata": {},
     "output_type": "execute_result"
    }
   ],
   "source": [
    "movies_data.ix[1]['StarDistribution'].split('%')"
   ]
  },
  {
   "cell_type": "code",
   "execution_count": 44,
   "metadata": {
    "collapsed": true
   },
   "outputs": [],
   "source": [
    " for i,stardis in enumerate(movies_data.StarDistribution):\n",
    "    dummies.ix[i, ['FiveStar', 'FourStar', 'ThreeStar', 'TwoStar', 'OneStar']] = stardis.split('%')[:-1]"
   ]
  },
  {
   "cell_type": "code",
   "execution_count": 45,
   "metadata": {
    "collapsed": false
   },
   "outputs": [
    {
     "data": {
      "text/html": [
       "<div>\n",
       "<table border=\"1\" class=\"dataframe\">\n",
       "  <thead>\n",
       "    <tr style=\"text-align: right;\">\n",
       "      <th></th>\n",
       "      <th>FiveStar</th>\n",
       "      <th>FourStar</th>\n",
       "      <th>ThreeStar</th>\n",
       "      <th>TwoStar</th>\n",
       "      <th>OneStar</th>\n",
       "    </tr>\n",
       "    <tr>\n",
       "      <th>Name</th>\n",
       "      <th></th>\n",
       "      <th></th>\n",
       "      <th></th>\n",
       "      <th></th>\n",
       "      <th></th>\n",
       "    </tr>\n",
       "  </thead>\n",
       "  <tbody>\n",
       "    <tr>\n",
       "      <th>老友记 第十季 Friends Season 10</th>\n",
       "      <td>90.4</td>\n",
       "      <td>8.2</td>\n",
       "      <td>1.2</td>\n",
       "      <td>0.1</td>\n",
       "      <td>0.1</td>\n",
       "    </tr>\n",
       "    <tr>\n",
       "      <th>人类星球 Human Planet</th>\n",
       "      <td>89.5</td>\n",
       "      <td>9.3</td>\n",
       "      <td>1.0</td>\n",
       "      <td>0.1</td>\n",
       "      <td>0.2</td>\n",
       "    </tr>\n",
       "    <tr>\n",
       "      <th>是，大臣  第二季 Yes Minister Season 2</th>\n",
       "      <td>91.1</td>\n",
       "      <td>8.0</td>\n",
       "      <td>0.8</td>\n",
       "      <td>0.0</td>\n",
       "      <td>0.0</td>\n",
       "    </tr>\n",
       "    <tr>\n",
       "      <th>是，大臣  第三季 Yes Minister Season 3</th>\n",
       "      <td>91.5</td>\n",
       "      <td>7.2</td>\n",
       "      <td>1.0</td>\n",
       "      <td>0.1</td>\n",
       "      <td>0.2</td>\n",
       "    </tr>\n",
       "    <tr>\n",
       "      <th>是，首相  第二季 Yes, Prime Minister Season 2</th>\n",
       "      <td>90.7</td>\n",
       "      <td>8.3</td>\n",
       "      <td>0.8</td>\n",
       "      <td>0.0</td>\n",
       "      <td>0.2</td>\n",
       "    </tr>\n",
       "  </tbody>\n",
       "</table>\n",
       "</div>"
      ],
      "text/plain": [
       "                                       FiveStar FourStar ThreeStar TwoStar  \\\n",
       "Name                                                                         \n",
       "老友记 第十季 Friends Season 10                  90.4      8.2       1.2     0.1   \n",
       "人类星球 Human Planet                          89.5      9.3       1.0     0.1   \n",
       "是，大臣  第二季 Yes Minister Season 2            91.1      8.0       0.8     0.0   \n",
       "是，大臣  第三季 Yes Minister Season 3            91.5      7.2       1.0     0.1   \n",
       "是，首相  第二季 Yes, Prime Minister Season 2     90.7      8.3       0.8     0.0   \n",
       "\n",
       "                                       OneStar  \n",
       "Name                                            \n",
       "老友记 第十季 Friends Season 10                  0.1  \n",
       "人类星球 Human Planet                          0.2  \n",
       "是，大臣  第二季 Yes Minister Season 2            0.0  \n",
       "是，大臣  第三季 Yes Minister Season 3            0.2  \n",
       "是，首相  第二季 Yes, Prime Minister Season 2     0.2  "
      ]
     },
     "execution_count": 45,
     "metadata": {},
     "output_type": "execute_result"
    }
   ],
   "source": [
    "dummies[:5]"
   ]
  },
  {
   "cell_type": "code",
   "execution_count": 46,
   "metadata": {
    "collapsed": true
   },
   "outputs": [],
   "source": [
    "#dummies用来表示一个作品的5星，4星，3星，2星，1星的分布"
   ]
  },
  {
   "cell_type": "code",
   "execution_count": 47,
   "metadata": {
    "collapsed": false
   },
   "outputs": [
    {
     "data": {
      "text/plain": [
       "'90.4'"
      ]
     },
     "execution_count": 47,
     "metadata": {},
     "output_type": "execute_result"
    }
   ],
   "source": [
    "dummies.ix[0].FiveStar"
   ]
  },
  {
   "cell_type": "code",
   "execution_count": 48,
   "metadata": {
    "collapsed": true
   },
   "outputs": [],
   "source": [
    "dummies.FiveStar = dummies.FiveStar.map(get_float)\n",
    "dummies.FourStar = dummies.FourStar.map(get_float)\n",
    "dummies.ThreeStar = dummies.ThreeStar.map(get_float)\n",
    "dummies.TwoStar = dummies.TwoStar.map(get_float)\n",
    "dummies.OneStar = dummies.OneStar.map(get_float)"
   ]
  },
  {
   "cell_type": "code",
   "execution_count": 49,
   "metadata": {
    "collapsed": false
   },
   "outputs": [
    {
     "data": {
      "text/plain": [
       "0.10000000000000001"
      ]
     },
     "execution_count": 49,
     "metadata": {},
     "output_type": "execute_result"
    }
   ],
   "source": [
    "dummies.ix[0].OneStar"
   ]
  },
  {
   "cell_type": "code",
   "execution_count": 50,
   "metadata": {
    "collapsed": false
   },
   "outputs": [
    {
     "data": {
      "text/html": [
       "<div>\n",
       "<table border=\"1\" class=\"dataframe\">\n",
       "  <thead>\n",
       "    <tr style=\"text-align: right;\">\n",
       "      <th></th>\n",
       "      <th>FiveStar</th>\n",
       "      <th>FourStar</th>\n",
       "      <th>ThreeStar</th>\n",
       "      <th>TwoStar</th>\n",
       "      <th>OneStar</th>\n",
       "    </tr>\n",
       "    <tr>\n",
       "      <th>Name</th>\n",
       "      <th></th>\n",
       "      <th></th>\n",
       "      <th></th>\n",
       "      <th></th>\n",
       "      <th></th>\n",
       "    </tr>\n",
       "  </thead>\n",
       "  <tbody>\n",
       "    <tr>\n",
       "      <th>老友记 第十季 Friends Season 10</th>\n",
       "      <td>90.4</td>\n",
       "      <td>8.2</td>\n",
       "      <td>1.2</td>\n",
       "      <td>0.1</td>\n",
       "      <td>0.1</td>\n",
       "    </tr>\n",
       "    <tr>\n",
       "      <th>人类星球 Human Planet</th>\n",
       "      <td>89.5</td>\n",
       "      <td>9.3</td>\n",
       "      <td>1.0</td>\n",
       "      <td>0.1</td>\n",
       "      <td>0.2</td>\n",
       "    </tr>\n",
       "  </tbody>\n",
       "</table>\n",
       "</div>"
      ],
      "text/plain": [
       "                           FiveStar  FourStar  ThreeStar  TwoStar  OneStar\n",
       "Name                                                                      \n",
       "老友记 第十季 Friends Season 10      90.4       8.2        1.2      0.1      0.1\n",
       "人类星球 Human Planet              89.5       9.3        1.0      0.1      0.2"
      ]
     },
     "execution_count": 50,
     "metadata": {},
     "output_type": "execute_result"
    }
   ],
   "source": [
    "dummies[:2]"
   ]
  },
  {
   "cell_type": "code",
   "execution_count": 51,
   "metadata": {
    "collapsed": true
   },
   "outputs": [],
   "source": [
    "movies_windic = movies_data.join(dummies.add_prefix('Ratio_Of_'))"
   ]
  },
  {
   "cell_type": "code",
   "execution_count": 52,
   "metadata": {
    "collapsed": false
   },
   "outputs": [
    {
     "data": {
      "text/html": [
       "<div>\n",
       "<table border=\"1\" class=\"dataframe\">\n",
       "  <thead>\n",
       "    <tr style=\"text-align: right;\">\n",
       "      <th></th>\n",
       "      <th>Country</th>\n",
       "      <th>Genre</th>\n",
       "      <th>Director</th>\n",
       "      <th>Time</th>\n",
       "      <th>VoterNumber</th>\n",
       "      <th>Star</th>\n",
       "      <th>StarDistribution</th>\n",
       "      <th>Ratio_Of_FiveStar</th>\n",
       "      <th>Ratio_Of_FourStar</th>\n",
       "      <th>Ratio_Of_ThreeStar</th>\n",
       "      <th>Ratio_Of_TwoStar</th>\n",
       "      <th>Ratio_Of_OneStar</th>\n",
       "    </tr>\n",
       "    <tr>\n",
       "      <th>Name</th>\n",
       "      <th></th>\n",
       "      <th></th>\n",
       "      <th></th>\n",
       "      <th></th>\n",
       "      <th></th>\n",
       "      <th></th>\n",
       "      <th></th>\n",
       "      <th></th>\n",
       "      <th></th>\n",
       "      <th></th>\n",
       "      <th></th>\n",
       "      <th></th>\n",
       "    </tr>\n",
       "  </thead>\n",
       "  <tbody>\n",
       "    <tr>\n",
       "      <th>老友记 第十季 Friends Season 10</th>\n",
       "      <td>[美国]</td>\n",
       "      <td>喜剧爱情</td>\n",
       "      <td>Kevin Bright</td>\n",
       "      <td>(2003)</td>\n",
       "      <td>37085</td>\n",
       "      <td>9.8</td>\n",
       "      <td>90.4%8.2%1.2%0.1%0.1%</td>\n",
       "      <td>90.4</td>\n",
       "      <td>8.2</td>\n",
       "      <td>1.2</td>\n",
       "      <td>0.1</td>\n",
       "      <td>0.1</td>\n",
       "    </tr>\n",
       "    <tr>\n",
       "      <th>人类星球 Human Planet</th>\n",
       "      <td>[英国]</td>\n",
       "      <td>纪录片</td>\n",
       "      <td>Tom Hugh-JonesTuppence StoneNicolas BrownMark ...</td>\n",
       "      <td>(2011)</td>\n",
       "      <td>8397</td>\n",
       "      <td>9.8</td>\n",
       "      <td>89.5%9.3%1.0%0.1%0.2%</td>\n",
       "      <td>89.5</td>\n",
       "      <td>9.3</td>\n",
       "      <td>1.0</td>\n",
       "      <td>0.1</td>\n",
       "      <td>0.2</td>\n",
       "    </tr>\n",
       "    <tr>\n",
       "      <th>是，大臣  第二季 Yes Minister Season 2</th>\n",
       "      <td>[英国]</td>\n",
       "      <td>喜剧</td>\n",
       "      <td>Peter WhitmoreSydney Lotterby</td>\n",
       "      <td>(1981)</td>\n",
       "      <td>5031</td>\n",
       "      <td>9.8</td>\n",
       "      <td>91.1%8.0%0.8%0.0%0.0%</td>\n",
       "      <td>91.1</td>\n",
       "      <td>8.0</td>\n",
       "      <td>0.8</td>\n",
       "      <td>0.0</td>\n",
       "      <td>0.0</td>\n",
       "    </tr>\n",
       "  </tbody>\n",
       "</table>\n",
       "</div>"
      ],
      "text/plain": [
       "                                Country Genre  \\\n",
       "Name                                            \n",
       "老友记 第十季 Friends Season 10          [美国]  喜剧爱情   \n",
       "人类星球 Human Planet                  [英国]   纪录片   \n",
       "是，大臣  第二季 Yes Minister Season 2    [英国]    喜剧   \n",
       "\n",
       "                                                                          Director  \\\n",
       "Name                                                                                 \n",
       "老友记 第十季 Friends Season 10                                             Kevin Bright   \n",
       "人类星球 Human Planet                Tom Hugh-JonesTuppence StoneNicolas BrownMark ...   \n",
       "是，大臣  第二季 Yes Minister Season 2                      Peter WhitmoreSydney Lotterby   \n",
       "\n",
       "                                   Time  VoterNumber  Star  \\\n",
       "Name                                                         \n",
       "老友记 第十季 Friends Season 10        (2003)        37085   9.8   \n",
       "人类星球 Human Planet                (2011)         8397   9.8   \n",
       "是，大臣  第二季 Yes Minister Season 2  (1981)         5031   9.8   \n",
       "\n",
       "                                      StarDistribution  Ratio_Of_FiveStar  \\\n",
       "Name                                                                        \n",
       "老友记 第十季 Friends Season 10        90.4%8.2%1.2%0.1%0.1%               90.4   \n",
       "人类星球 Human Planet                89.5%9.3%1.0%0.1%0.2%               89.5   \n",
       "是，大臣  第二季 Yes Minister Season 2  91.1%8.0%0.8%0.0%0.0%               91.1   \n",
       "\n",
       "                                 Ratio_Of_FourStar  Ratio_Of_ThreeStar  \\\n",
       "Name                                                                     \n",
       "老友记 第十季 Friends Season 10                      8.2                 1.2   \n",
       "人类星球 Human Planet                              9.3                 1.0   \n",
       "是，大臣  第二季 Yes Minister Season 2                8.0                 0.8   \n",
       "\n",
       "                                 Ratio_Of_TwoStar  Ratio_Of_OneStar  \n",
       "Name                                                                 \n",
       "老友记 第十季 Friends Season 10                     0.1               0.1  \n",
       "人类星球 Human Planet                             0.1               0.2  \n",
       "是，大臣  第二季 Yes Minister Season 2               0.0               0.0  "
      ]
     },
     "execution_count": 52,
     "metadata": {},
     "output_type": "execute_result"
    }
   ],
   "source": [
    "movies_windic[:3]"
   ]
  },
  {
   "cell_type": "code",
   "execution_count": 53,
   "metadata": {
    "collapsed": true
   },
   "outputs": [],
   "source": [
    "import matplotlib.pyplot as plt "
   ]
  },
  {
   "cell_type": "code",
   "execution_count": 54,
   "metadata": {
    "collapsed": false
   },
   "outputs": [
    {
     "data": {
      "text/plain": [
       "<matplotlib.axes._subplots.AxesSubplot at 0x1e02a68dc50>"
      ]
     },
     "execution_count": 54,
     "metadata": {},
     "output_type": "execute_result"
    }
   ],
   "source": [
    "movies_windic['Star'].plot(kind='kde')"
   ]
  },
  {
   "cell_type": "code",
   "execution_count": 55,
   "metadata": {
    "collapsed": false
   },
   "outputs": [
    {
     "data": {
      "image/png": "[encoded data removed]",
      "text/plain": [
       "<matplotlib.figure.Figure at 0x1e020457fd0>"
      ]
     },
     "metadata": {},
     "output_type": "display_data"
    }
   ],
   "source": [
    "plt.show()"
   ]
  },
  {
   "cell_type": "code",
   "execution_count": 56,
   "metadata": {
    "collapsed": false
   },
   "outputs": [
    {
     "data": {
      "text/plain": [
       "<matplotlib.axes._subplots.AxesSubplot at 0x1e02c217ef0>"
      ]
     },
     "execution_count": 56,
     "metadata": {},
     "output_type": "execute_result"
    }
   ],
   "source": [
    "movies_windic['Star'].hist(bins=40)    "
   ]
  },
  {
   "cell_type": "code",
   "execution_count": 57,
   "metadata": {
    "collapsed": false
   },
   "outputs": [
    {
     "data": {
      "image/png": "[encoded data removed]",
      "text/plain": [
       "<matplotlib.figure.Figure at 0x1e02c228710>"
      ]
     },
     "metadata": {},
     "output_type": "display_data"
    }
   ],
   "source": [
    "plt.show()"
   ]
  },
  {
   "cell_type": "code",
   "execution_count": 60,
   "metadata": {
    "collapsed": false
   },
   "outputs": [
    {
     "data": {
      "text/plain": [
       "7.329801980197929"
      ]
     },
     "execution_count": 60,
     "metadata": {},
     "output_type": "execute_result"
    }
   ],
   "source": [
    "movies_windic['Star'].mean()"
   ]
  },
  {
   "cell_type": "code",
   "execution_count": 61,
   "metadata": {
    "collapsed": false
   },
   "outputs": [
    {
     "data": {
      "text/plain": [
       "7.5"
      ]
     },
     "execution_count": 61,
     "metadata": {},
     "output_type": "execute_result"
    }
   ],
   "source": [
    "movies_windic['Star'].median()"
   ]
  },
  {
   "cell_type": "code",
   "execution_count": 62,
   "metadata": {
    "collapsed": true
   },
   "outputs": [],
   "source": [
    "#评论人数>1000的作品中，中位评分是7.5,平均评分7.3左右。按照图表显示多集中于7-8分左右"
   ]
  },
  {
   "cell_type": "code",
   "execution_count": 63,
   "metadata": {
    "collapsed": false
   },
   "outputs": [
    {
     "data": {
      "image/png": "[encoded data removed]",
      "text/plain": [
       "<matplotlib.figure.Figure at 0x1e02c287828>"
      ]
     },
     "metadata": {},
     "output_type": "display_data"
    }
   ],
   "source": [
    "movies_windic.ix[1][['Ratio_Of_FiveStar','Ratio_Of_FourStar','Ratio_Of_ThreeStar','Ratio_Of_TwoStar','Ratio_Of_OneStar']].plot(kind='barh')\n",
    "plt.show()"
   ]
  },
  {
   "cell_type": "code",
   "execution_count": 64,
   "metadata": {
    "collapsed": true
   },
   "outputs": [],
   "source": [
    "#典型优秀作品的星数分配，“一枝独秀”"
   ]
  },
  {
   "cell_type": "code",
   "execution_count": 65,
   "metadata": {
    "collapsed": false
   },
   "outputs": [
    {
     "data": {
      "image/png": "[encoded data removed]",
      "text/plain": [
       "<matplotlib.figure.Figure at 0x1e02c3a5b70>"
      ]
     },
     "metadata": {},
     "output_type": "display_data"
    }
   ],
   "source": [
    "movies_windic.ix[1500][['Ratio_Of_FiveStar','Ratio_Of_FourStar','Ratio_Of_ThreeStar','Ratio_Of_TwoStar','Ratio_Of_OneStar']].plot(kind='barh')\n",
    "plt.show()"
   ]
  },
  {
   "cell_type": "code",
   "execution_count": 66,
   "metadata": {
    "collapsed": true
   },
   "outputs": [],
   "source": [
    "#比较优秀作品的星数分配，4星和5星评分数量相近"
   ]
  },
  {
   "cell_type": "code",
   "execution_count": 68,
   "metadata": {
    "collapsed": false
   },
   "outputs": [
    {
     "data": {
      "image/png": "[encoded data removed]",
      "text/plain": [
       "<matplotlib.figure.Figure at 0x1e02c4c89b0>"
      ]
     },
     "metadata": {},
     "output_type": "display_data"
    }
   ],
   "source": [
    "movies_windic.ix[5000][['Ratio_Of_FiveStar','Ratio_Of_FourStar','Ratio_Of_ThreeStar','Ratio_Of_TwoStar','Ratio_Of_OneStar']].plot(kind='barh')\n",
    "plt.show()"
   ]
  },
  {
   "cell_type": "code",
   "execution_count": 69,
   "metadata": {
    "collapsed": true
   },
   "outputs": [],
   "source": [
    "#看起来还算爽的作品的分布，多为4星，5星和3星数量相当\n",
    "#这类作品一般是看起来还挺惊心动魄的，可惜缺乏不朽的要素"
   ]
  },
  {
   "cell_type": "code",
   "execution_count": 72,
   "metadata": {
    "collapsed": false
   },
   "outputs": [
    {
     "data": {
      "image/png": "[encoded data removed]",
      "text/plain": [
       "<matplotlib.figure.Figure at 0x1e02c5a8240>"
      ]
     },
     "metadata": {},
     "output_type": "display_data"
    }
   ],
   "source": [
    "movies_windic.ix[9000][['Ratio_Of_FiveStar','Ratio_Of_FourStar','Ratio_Of_ThreeStar','Ratio_Of_TwoStar','Ratio_Of_OneStar']].plot(kind='barh')\n",
    "plt.show()"
   ]
  },
  {
   "cell_type": "code",
   "execution_count": 75,
   "metadata": {
    "collapsed": false
   },
   "outputs": [],
   "source": [
    "#只能随便看看的作品"
   ]
  },
  {
   "cell_type": "code",
   "execution_count": 77,
   "metadata": {
    "collapsed": false
   },
   "outputs": [
    {
     "data": {
      "image/png": "[encoded data removed]",
      "text/plain": [
       "<matplotlib.figure.Figure at 0x1e02c496710>"
      ]
     },
     "metadata": {},
     "output_type": "display_data"
    }
   ],
   "source": [
    "movies_windic.ix[11000][['Ratio_Of_FiveStar','Ratio_Of_FourStar','Ratio_Of_ThreeStar','Ratio_Of_TwoStar','Ratio_Of_OneStar']].plot(kind='barh')\n",
    "plt.show()"
   ]
  },
  {
   "cell_type": "code",
   "execution_count": 79,
   "metadata": {
    "collapsed": false
   },
   "outputs": [],
   "source": [
    "#褒贬不一的作品，类似于大鱼海棠。属于有一定的闪光点，但是“瑜不掩瑕”\n"
   ]
  },
  {
   "cell_type": "code",
   "execution_count": 81,
   "metadata": {
    "collapsed": false
   },
   "outputs": [
    {
     "data": {
      "image/png": "[encoded data removed]",
      "text/plain": [
       "<matplotlib.figure.Figure at 0x1e02c4aa358>"
      ]
     },
     "metadata": {},
     "output_type": "display_data"
    }
   ],
   "source": [
    "movies_windic.ix[15000][['Ratio_Of_FiveStar','Ratio_Of_FourStar','Ratio_Of_ThreeStar','Ratio_Of_TwoStar','Ratio_Of_OneStar']].plot(kind='barh')\n",
    "plt.show()"
   ]
  },
  {
   "cell_type": "code",
   "execution_count": 82,
   "metadata": {
    "collapsed": true
   },
   "outputs": [],
   "source": [
    "#.....经典烂片"
   ]
  },
  {
   "cell_type": "code",
   "execution_count": 86,
   "metadata": {
    "collapsed": true
   },
   "outputs": [],
   "source": [
    "recommendation = movies_windic[ movies_windic['VoterNumber'] > 2500 ]"
   ]
  },
  {
   "cell_type": "code",
   "execution_count": 87,
   "metadata": {
    "collapsed": true
   },
   "outputs": [],
   "source": [
    "recommendation = movies_windic[ movies_windic['Star'] > 8.5 ]"
   ]
  },
  {
   "cell_type": "code",
   "execution_count": 88,
   "metadata": {
    "collapsed": false
   },
   "outputs": [
    {
     "name": "stdout",
     "output_type": "stream",
     "text": [
      "<class 'pandas.core.frame.DataFrame'>\n",
      "Index: 2259 entries, 老友记 第十季 Friends Season 10 to 偶剧 Screen Play\n",
      "Data columns (total 12 columns):\n",
      "Country               2259 non-null object\n",
      "Genre                 2259 non-null object\n",
      "Director              2259 non-null object\n",
      "Time                  2259 non-null object\n",
      "VoterNumber           2259 non-null int64\n",
      "Star                  2259 non-null float64\n",
      "StarDistribution      2259 non-null object\n",
      "Ratio_Of_FiveStar     2259 non-null float64\n",
      "Ratio_Of_FourStar     2259 non-null float64\n",
      "Ratio_Of_ThreeStar    2259 non-null float64\n",
      "Ratio_Of_TwoStar      2259 non-null float64\n",
      "Ratio_Of_OneStar      2259 non-null float64\n",
      "dtypes: float64(6), int64(1), object(5)\n",
      "memory usage: 229.4+ KB\n"
     ]
    }
   ],
   "source": [
    "recommendation.info()"
   ]
  },
  {
   "cell_type": "code",
   "execution_count": 89,
   "metadata": {
    "collapsed": false
   },
   "outputs": [
    {
     "data": {
      "text/html": [
       "<div>\n",
       "<table border=\"1\" class=\"dataframe\">\n",
       "  <thead>\n",
       "    <tr style=\"text-align: right;\">\n",
       "      <th></th>\n",
       "      <th>Country</th>\n",
       "      <th>Genre</th>\n",
       "      <th>Director</th>\n",
       "      <th>Time</th>\n",
       "      <th>VoterNumber</th>\n",
       "      <th>Star</th>\n",
       "      <th>StarDistribution</th>\n",
       "      <th>Ratio_Of_FiveStar</th>\n",
       "      <th>Ratio_Of_FourStar</th>\n",
       "      <th>Ratio_Of_ThreeStar</th>\n",
       "      <th>Ratio_Of_TwoStar</th>\n",
       "      <th>Ratio_Of_OneStar</th>\n",
       "    </tr>\n",
       "    <tr>\n",
       "      <th>Name</th>\n",
       "      <th></th>\n",
       "      <th></th>\n",
       "      <th></th>\n",
       "      <th></th>\n",
       "      <th></th>\n",
       "      <th></th>\n",
       "      <th></th>\n",
       "      <th></th>\n",
       "      <th></th>\n",
       "      <th></th>\n",
       "      <th></th>\n",
       "      <th></th>\n",
       "    </tr>\n",
       "  </thead>\n",
       "  <tbody>\n",
       "    <tr>\n",
       "      <th>老友记 第十季 Friends Season 10</th>\n",
       "      <td>[美国]</td>\n",
       "      <td>喜剧爱情</td>\n",
       "      <td>Kevin Bright</td>\n",
       "      <td>(2003)</td>\n",
       "      <td>37085</td>\n",
       "      <td>9.8</td>\n",
       "      <td>90.4%8.2%1.2%0.1%0.1%</td>\n",
       "      <td>90.4</td>\n",
       "      <td>8.2</td>\n",
       "      <td>1.2</td>\n",
       "      <td>0.1</td>\n",
       "      <td>0.1</td>\n",
       "    </tr>\n",
       "    <tr>\n",
       "      <th>人类星球 Human Planet</th>\n",
       "      <td>[英国]</td>\n",
       "      <td>纪录片</td>\n",
       "      <td>Tom Hugh-JonesTuppence StoneNicolas BrownMark ...</td>\n",
       "      <td>(2011)</td>\n",
       "      <td>8397</td>\n",
       "      <td>9.8</td>\n",
       "      <td>89.5%9.3%1.0%0.1%0.2%</td>\n",
       "      <td>89.5</td>\n",
       "      <td>9.3</td>\n",
       "      <td>1.0</td>\n",
       "      <td>0.1</td>\n",
       "      <td>0.2</td>\n",
       "    </tr>\n",
       "    <tr>\n",
       "      <th>是，大臣  第二季 Yes Minister Season 2</th>\n",
       "      <td>[英国]</td>\n",
       "      <td>喜剧</td>\n",
       "      <td>Peter WhitmoreSydney Lotterby</td>\n",
       "      <td>(1981)</td>\n",
       "      <td>5031</td>\n",
       "      <td>9.8</td>\n",
       "      <td>91.1%8.0%0.8%0.0%0.0%</td>\n",
       "      <td>91.1</td>\n",
       "      <td>8.0</td>\n",
       "      <td>0.8</td>\n",
       "      <td>0.0</td>\n",
       "      <td>0.0</td>\n",
       "    </tr>\n",
       "    <tr>\n",
       "      <th>是，大臣  第三季 Yes Minister Season 3</th>\n",
       "      <td>[英国]</td>\n",
       "      <td>喜剧</td>\n",
       "      <td>Sydney LotterbyPeter Whitmore</td>\n",
       "      <td>(1982)</td>\n",
       "      <td>4865</td>\n",
       "      <td>9.8</td>\n",
       "      <td>91.5%7.2%1.0%0.1%0.2%</td>\n",
       "      <td>91.5</td>\n",
       "      <td>7.2</td>\n",
       "      <td>1.0</td>\n",
       "      <td>0.1</td>\n",
       "      <td>0.2</td>\n",
       "    </tr>\n",
       "    <tr>\n",
       "      <th>是，首相  第二季 Yes, Prime Minister Season 2</th>\n",
       "      <td>[英国]</td>\n",
       "      <td>喜剧</td>\n",
       "      <td>Peter WhitmoreSydney Lotterby</td>\n",
       "      <td>(1987)</td>\n",
       "      <td>4192</td>\n",
       "      <td>9.8</td>\n",
       "      <td>90.7%8.3%0.8%0.0%0.2%</td>\n",
       "      <td>90.7</td>\n",
       "      <td>8.3</td>\n",
       "      <td>0.8</td>\n",
       "      <td>0.0</td>\n",
       "      <td>0.2</td>\n",
       "    </tr>\n",
       "    <tr>\n",
       "      <th>猎捕 The Hunt</th>\n",
       "      <td>[英国]</td>\n",
       "      <td>纪录片</td>\n",
       "      <td>Rob Sullivan</td>\n",
       "      <td>(2015)</td>\n",
       "      <td>4046</td>\n",
       "      <td>9.8</td>\n",
       "      <td>90.9%7.6%1.2%0.1%0.3%</td>\n",
       "      <td>90.9</td>\n",
       "      <td>7.6</td>\n",
       "      <td>1.2</td>\n",
       "      <td>0.1</td>\n",
       "      <td>0.3</td>\n",
       "    </tr>\n",
       "    <tr>\n",
       "      <th>老友记 第二季 Friends Season 2</th>\n",
       "      <td>[美国]</td>\n",
       "      <td>喜剧爱情</td>\n",
       "      <td>迈克尔·莱拜克</td>\n",
       "      <td>(1995)</td>\n",
       "      <td>40212</td>\n",
       "      <td>9.7</td>\n",
       "      <td>86.4%12.1%1.4%0.0%0.0%</td>\n",
       "      <td>86.4</td>\n",
       "      <td>12.1</td>\n",
       "      <td>1.4</td>\n",
       "      <td>0.0</td>\n",
       "      <td>0.0</td>\n",
       "    </tr>\n",
       "    <tr>\n",
       "      <th>老友记  第三季 Friends Season 3</th>\n",
       "      <td>[美国]</td>\n",
       "      <td>喜剧爱情</td>\n",
       "      <td>Gail Mancuso</td>\n",
       "      <td>(1996)</td>\n",
       "      <td>35981</td>\n",
       "      <td>9.7</td>\n",
       "      <td>86.5%12.0%1.4%0.1%0.0%</td>\n",
       "      <td>86.5</td>\n",
       "      <td>12.0</td>\n",
       "      <td>1.4</td>\n",
       "      <td>0.1</td>\n",
       "      <td>0.0</td>\n",
       "    </tr>\n",
       "    <tr>\n",
       "      <th>老友记  第四季 Friends Season 4</th>\n",
       "      <td>[美国]</td>\n",
       "      <td>喜剧爱情</td>\n",
       "      <td>Shelley Jensen</td>\n",
       "      <td>(1997)</td>\n",
       "      <td>34130</td>\n",
       "      <td>9.7</td>\n",
       "      <td>87.2%11.4%1.3%0.1%0.0%</td>\n",
       "      <td>87.2</td>\n",
       "      <td>11.4</td>\n",
       "      <td>1.3</td>\n",
       "      <td>0.1</td>\n",
       "      <td>0.0</td>\n",
       "    </tr>\n",
       "    <tr>\n",
       "      <th>老友记  第五季 Friends Season 5</th>\n",
       "      <td>[美国]</td>\n",
       "      <td>喜剧爱情</td>\n",
       "      <td>Kevin Bright</td>\n",
       "      <td>(1998)</td>\n",
       "      <td>32812</td>\n",
       "      <td>9.7</td>\n",
       "      <td>87.6%11.0%1.3%0.0%0.0%</td>\n",
       "      <td>87.6</td>\n",
       "      <td>11.0</td>\n",
       "      <td>1.3</td>\n",
       "      <td>0.0</td>\n",
       "      <td>0.0</td>\n",
       "    </tr>\n",
       "    <tr>\n",
       "      <th>老友记  第六季 Friends Season 6</th>\n",
       "      <td>[美国]</td>\n",
       "      <td>喜剧爱情</td>\n",
       "      <td>Kevin Bright</td>\n",
       "      <td>(1999)</td>\n",
       "      <td>32025</td>\n",
       "      <td>9.7</td>\n",
       "      <td>87.9%10.8%1.3%0.1%0.0%</td>\n",
       "      <td>87.9</td>\n",
       "      <td>10.8</td>\n",
       "      <td>1.3</td>\n",
       "      <td>0.1</td>\n",
       "      <td>0.0</td>\n",
       "    </tr>\n",
       "    <tr>\n",
       "      <th>老友记  第七季 Friends Season 7</th>\n",
       "      <td>[美国]</td>\n",
       "      <td>喜剧爱情</td>\n",
       "      <td>Kevin Bright</td>\n",
       "      <td>(2000)</td>\n",
       "      <td>30660</td>\n",
       "      <td>9.7</td>\n",
       "      <td>87.4%11.0%1.4%0.1%0.0%</td>\n",
       "      <td>87.4</td>\n",
       "      <td>11.0</td>\n",
       "      <td>1.4</td>\n",
       "      <td>0.1</td>\n",
       "      <td>0.0</td>\n",
       "    </tr>\n",
       "    <tr>\n",
       "      <th>老友记  第八季 Friends Season 8</th>\n",
       "      <td>[美国]</td>\n",
       "      <td>喜剧爱情</td>\n",
       "      <td>Kevin Bright</td>\n",
       "      <td>(2001)</td>\n",
       "      <td>30025</td>\n",
       "      <td>9.7</td>\n",
       "      <td>87.2%11.2%1.5%0.1%0.0%</td>\n",
       "      <td>87.2</td>\n",
       "      <td>11.2</td>\n",
       "      <td>1.5</td>\n",
       "      <td>0.1</td>\n",
       "      <td>0.0</td>\n",
       "    </tr>\n",
       "    <tr>\n",
       "      <th>老友记  第九季 Friends Season 9</th>\n",
       "      <td>[美国]</td>\n",
       "      <td>喜剧爱情</td>\n",
       "      <td>Kevin Bright</td>\n",
       "      <td>(2002)</td>\n",
       "      <td>29378</td>\n",
       "      <td>9.7</td>\n",
       "      <td>87.0%11.3%1.6%0.1%0.1%</td>\n",
       "      <td>87.0</td>\n",
       "      <td>11.3</td>\n",
       "      <td>1.6</td>\n",
       "      <td>0.1</td>\n",
       "      <td>0.1</td>\n",
       "    </tr>\n",
       "    <tr>\n",
       "      <th>银魂 第二季 銀魂'</th>\n",
       "      <td>[日本]</td>\n",
       "      <td>剧情动作动画</td>\n",
       "      <td>藤田阳一</td>\n",
       "      <td>(2011)</td>\n",
       "      <td>27492</td>\n",
       "      <td>9.7</td>\n",
       "      <td>87.3%10.2%2.0%0.2%0.3%</td>\n",
       "      <td>87.3</td>\n",
       "      <td>10.2</td>\n",
       "      <td>2.0</td>\n",
       "      <td>0.2</td>\n",
       "      <td>0.3</td>\n",
       "    </tr>\n",
       "    <tr>\n",
       "      <th>地球脉动 第一季 Planet Earth Season 1</th>\n",
       "      <td>[英国]</td>\n",
       "      <td>纪录片</td>\n",
       "      <td>艾雷斯泰·法瑟吉尔</td>\n",
       "      <td>(2006)</td>\n",
       "      <td>17347</td>\n",
       "      <td>9.7</td>\n",
       "      <td>86.9%11.4%1.6%0.1%0.1%</td>\n",
       "      <td>86.9</td>\n",
       "      <td>11.4</td>\n",
       "      <td>1.6</td>\n",
       "      <td>0.1</td>\n",
       "      <td>0.1</td>\n",
       "    </tr>\n",
       "    <tr>\n",
       "      <th>瑞克和莫蒂 第二季 Rick and Morty Season 2</th>\n",
       "      <td>[美国]</td>\n",
       "      <td>喜剧科幻动画冒险</td>\n",
       "      <td>韦斯利·阿彻皮特·米歇尔斯</td>\n",
       "      <td>(2015)</td>\n",
       "      <td>11342</td>\n",
       "      <td>9.7</td>\n",
       "      <td>88.8%10.0%1.0%0.1%0.1%</td>\n",
       "      <td>88.8</td>\n",
       "      <td>10.0</td>\n",
       "      <td>1.0</td>\n",
       "      <td>0.1</td>\n",
       "      <td>0.1</td>\n",
       "    </tr>\n",
       "    <tr>\n",
       "      <th>久石让在武道馆：与宫崎骏动画一同走过的25年 久石譲 in 武道館 ~宮崎アニメと共に歩んだ25年間</th>\n",
       "      <td>[日本]</td>\n",
       "      <td>纪录片音乐</td>\n",
       "      <td></td>\n",
       "      <td>(2008)</td>\n",
       "      <td>8917</td>\n",
       "      <td>9.7</td>\n",
       "      <td>87.8%10.7%1.3%0.1%0.1%</td>\n",
       "      <td>87.8</td>\n",
       "      <td>10.7</td>\n",
       "      <td>1.3</td>\n",
       "      <td>0.1</td>\n",
       "      <td>0.1</td>\n",
       "    </tr>\n",
       "    <tr>\n",
       "      <th>是，首相 第一季 Yes, Prime Minister Season 1</th>\n",
       "      <td>[英国]</td>\n",
       "      <td>喜剧</td>\n",
       "      <td>Peter WhitmoreSydney Lotterby</td>\n",
       "      <td>(1986)</td>\n",
       "      <td>8895</td>\n",
       "      <td>9.7</td>\n",
       "      <td>86.0%12.1%1.7%0.1%0.1%</td>\n",
       "      <td>86.0</td>\n",
       "      <td>12.1</td>\n",
       "      <td>1.7</td>\n",
       "      <td>0.1</td>\n",
       "      <td>0.1</td>\n",
       "    </tr>\n",
       "    <tr>\n",
       "      <th>冰冻星球 Frozen Planet</th>\n",
       "      <td>[英国]</td>\n",
       "      <td>纪录片</td>\n",
       "      <td>艾雷斯泰·法瑟吉尔</td>\n",
       "      <td>(2011)</td>\n",
       "      <td>7798</td>\n",
       "      <td>9.7</td>\n",
       "      <td>88.5%10.4%1.0%0.1%0.1%</td>\n",
       "      <td>88.5</td>\n",
       "      <td>10.4</td>\n",
       "      <td>1.0</td>\n",
       "      <td>0.1</td>\n",
       "      <td>0.1</td>\n",
       "    </tr>\n",
       "    <tr>\n",
       "      <th>涅磐纽约不插电演唱会 Nirvana: Unplugged In New York</th>\n",
       "      <td>[USA]</td>\n",
       "      <td>纪录片音乐</td>\n",
       "      <td>Beth McCarthy-Miller</td>\n",
       "      <td>(1993)</td>\n",
       "      <td>6010</td>\n",
       "      <td>9.7</td>\n",
       "      <td>87.3%11.0%1.5%0.1%0.1%</td>\n",
       "      <td>87.3</td>\n",
       "      <td>11.0</td>\n",
       "      <td>1.5</td>\n",
       "      <td>0.1</td>\n",
       "      <td>0.1</td>\n",
       "    </tr>\n",
       "    <tr>\n",
       "      <th>BBC：非洲 BBC: Africa</th>\n",
       "      <td>[英国]</td>\n",
       "      <td>纪录片</td>\n",
       "      <td>Katrina Bartlam</td>\n",
       "      <td>(2013)</td>\n",
       "      <td>5299</td>\n",
       "      <td>9.7</td>\n",
       "      <td>87.9%11.1%0.9%0.0%0.1%</td>\n",
       "      <td>87.9</td>\n",
       "      <td>11.1</td>\n",
       "      <td>0.9</td>\n",
       "      <td>0.0</td>\n",
       "      <td>0.1</td>\n",
       "    </tr>\n",
       "    <tr>\n",
       "      <th>南太平洋 South Pacific</th>\n",
       "      <td>[英国]</td>\n",
       "      <td>纪录片</td>\n",
       "      <td>Mark BrownlowChiara BellatiJonathan Clay</td>\n",
       "      <td>(2009)</td>\n",
       "      <td>5254</td>\n",
       "      <td>9.7</td>\n",
       "      <td>84.9%13.3%1.6%0.1%0.1%</td>\n",
       "      <td>84.9</td>\n",
       "      <td>13.3</td>\n",
       "      <td>1.6</td>\n",
       "      <td>0.1</td>\n",
       "      <td>0.1</td>\n",
       "    </tr>\n",
       "    <tr>\n",
       "      <th>企鹅群里有特务 Penguins: Spy in the Huddle</th>\n",
       "      <td>[英国]</td>\n",
       "      <td>纪录片</td>\n",
       "      <td>约翰·唐纳</td>\n",
       "      <td>(2012)</td>\n",
       "      <td>4978</td>\n",
       "      <td>9.7</td>\n",
       "      <td>85.0%13.8%1.1%0.0%0.1%</td>\n",
       "      <td>85.0</td>\n",
       "      <td>13.8</td>\n",
       "      <td>1.1</td>\n",
       "      <td>0.0</td>\n",
       "      <td>0.1</td>\n",
       "    </tr>\n",
       "    <tr>\n",
       "      <th>生命 Life</th>\n",
       "      <td>[英国, 希腊]</td>\n",
       "      <td>纪录片</td>\n",
       "      <td>玛莎·霍尔姆斯Simon BlakeneyStephen Lyle</td>\n",
       "      <td>(2009)</td>\n",
       "      <td>4968</td>\n",
       "      <td>9.7</td>\n",
       "      <td>85.6%13.2%1.0%0.1%0.1%</td>\n",
       "      <td>85.6</td>\n",
       "      <td>13.2</td>\n",
       "      <td>1.0</td>\n",
       "      <td>0.1</td>\n",
       "      <td>0.1</td>\n",
       "    </tr>\n",
       "    <tr>\n",
       "      <th>艺术创想 Art Attack</th>\n",
       "      <td>[英国]</td>\n",
       "      <td></td>\n",
       "      <td>Richard BradleyJeremy CrossNick BigsbyTim Edmu...</td>\n",
       "      <td>(1990)</td>\n",
       "      <td>3503</td>\n",
       "      <td>9.7</td>\n",
       "      <td>86.4%11.0%2.5%0.0%0.1%</td>\n",
       "      <td>86.4</td>\n",
       "      <td>11.0</td>\n",
       "      <td>2.5</td>\n",
       "      <td>0.0</td>\n",
       "      <td>0.1</td>\n",
       "    </tr>\n",
       "    <tr>\n",
       "      <th>剧院魅影：25周年纪念演出 The Phantom of the Opera at the Royal Albert Hall</th>\n",
       "      <td>[英国]</td>\n",
       "      <td>剧情音乐歌舞</td>\n",
       "      <td>Nick MorrisLaurence Connor</td>\n",
       "      <td>(2011)</td>\n",
       "      <td>2831</td>\n",
       "      <td>9.7</td>\n",
       "      <td>86.7%11.6%1.6%0.1%0.0%</td>\n",
       "      <td>86.7</td>\n",
       "      <td>11.6</td>\n",
       "      <td>1.6</td>\n",
       "      <td>0.1</td>\n",
       "      <td>0.0</td>\n",
       "    </tr>\n",
       "    <tr>\n",
       "      <th>嵐の宿題くん</th>\n",
       "      <td>[日本]</td>\n",
       "      <td>喜剧家庭</td>\n",
       "      <td></td>\n",
       "      <td>(2006)</td>\n",
       "      <td>1904</td>\n",
       "      <td>9.7</td>\n",
       "      <td>87.6%10.4%1.6%0.1%0.3%</td>\n",
       "      <td>87.6</td>\n",
       "      <td>10.4</td>\n",
       "      <td>1.6</td>\n",
       "      <td>0.1</td>\n",
       "      <td>0.3</td>\n",
       "    </tr>\n",
       "    <tr>\n",
       "      <th>迈克尔·杰克逊-危险之旅之布加勒斯特站 Michael Jackson Live in Bucharest：The Dangerous Tour.1992</th>\n",
       "      <td>[美国]</td>\n",
       "      <td>音乐</td>\n",
       "      <td></td>\n",
       "      <td>(1992)</td>\n",
       "      <td>1814</td>\n",
       "      <td>9.7</td>\n",
       "      <td>86.1%12.1%1.4%0.1%0.3%</td>\n",
       "      <td>86.1</td>\n",
       "      <td>12.1</td>\n",
       "      <td>1.4</td>\n",
       "      <td>0.1</td>\n",
       "      <td>0.3</td>\n",
       "    </tr>\n",
       "    <tr>\n",
       "      <th>探险活宝 第四季 Adventure Time Season 4</th>\n",
       "      <td>[美国]</td>\n",
       "      <td>剧情喜剧动画奇幻冒险</td>\n",
       "      <td>Larry Leichliter</td>\n",
       "      <td>(2012)</td>\n",
       "      <td>1174</td>\n",
       "      <td>9.7</td>\n",
       "      <td>85.4%12.7%1.7%0.0%0.2%</td>\n",
       "      <td>85.4</td>\n",
       "      <td>12.7</td>\n",
       "      <td>1.7</td>\n",
       "      <td>0.0</td>\n",
       "      <td>0.2</td>\n",
       "    </tr>\n",
       "    <tr>\n",
       "      <th>...</th>\n",
       "      <td>...</td>\n",
       "      <td>...</td>\n",
       "      <td>...</td>\n",
       "      <td>...</td>\n",
       "      <td>...</td>\n",
       "      <td>...</td>\n",
       "      <td>...</td>\n",
       "      <td>...</td>\n",
       "      <td>...</td>\n",
       "      <td>...</td>\n",
       "      <td>...</td>\n",
       "      <td>...</td>\n",
       "    </tr>\n",
       "    <tr>\n",
       "      <th>雪地黄金犬 White Fang</th>\n",
       "      <td>[美国]</td>\n",
       "      <td>剧情冒险</td>\n",
       "      <td>兰德尔·克莱泽</td>\n",
       "      <td>(1991)</td>\n",
       "      <td>1313</td>\n",
       "      <td>8.6</td>\n",
       "      <td>42.2%45.4%11.7%0.6%0.1%</td>\n",
       "      <td>42.2</td>\n",
       "      <td>45.4</td>\n",
       "      <td>11.7</td>\n",
       "      <td>0.6</td>\n",
       "      <td>0.1</td>\n",
       "    </tr>\n",
       "    <tr>\n",
       "      <th>文艺复兴 Renaissance Revolution</th>\n",
       "      <td>[英国]</td>\n",
       "      <td>纪录片</td>\n",
       "      <td>兰德尔·赖特</td>\n",
       "      <td>(2010)</td>\n",
       "      <td>1287</td>\n",
       "      <td>8.6</td>\n",
       "      <td>43.3%45.6%9.9%1.0%0.2%</td>\n",
       "      <td>43.3</td>\n",
       "      <td>45.6</td>\n",
       "      <td>9.9</td>\n",
       "      <td>1.0</td>\n",
       "      <td>0.2</td>\n",
       "    </tr>\n",
       "    <tr>\n",
       "      <th>钢之炼金术师：单纯的人们 鋼の錬金術師 シンプルな人々</th>\n",
       "      <td>[日本]</td>\n",
       "      <td>动画</td>\n",
       "      <td>荒川弘</td>\n",
       "      <td>(2009)</td>\n",
       "      <td>1259</td>\n",
       "      <td>8.6</td>\n",
       "      <td>47.1%38.4%13.8%0.7%0.0%</td>\n",
       "      <td>47.1</td>\n",
       "      <td>38.4</td>\n",
       "      <td>13.8</td>\n",
       "      <td>0.7</td>\n",
       "      <td>0.0</td>\n",
       "    </tr>\n",
       "    <tr>\n",
       "      <th>死亡之夜 Dead of Night</th>\n",
       "      <td>[英国]</td>\n",
       "      <td>悬疑惊悚恐怖</td>\n",
       "      <td>阿尔贝托·卡瓦尔康蒂巴兹尔·迪尔登查尔斯·克瑞奇顿罗伯特·哈默</td>\n",
       "      <td>(1945)</td>\n",
       "      <td>1247</td>\n",
       "      <td>8.6</td>\n",
       "      <td>43.0%45.1%10.2%1.1%0.6%</td>\n",
       "      <td>43.0</td>\n",
       "      <td>45.1</td>\n",
       "      <td>10.2</td>\n",
       "      <td>1.1</td>\n",
       "      <td>0.6</td>\n",
       "    </tr>\n",
       "    <tr>\n",
       "      <th>费丽丝蒂 第一季 Felicity Season 1</th>\n",
       "      <td>[美国]</td>\n",
       "      <td>剧情</td>\n",
       "      <td>Lawrence TrillingHarry Winer</td>\n",
       "      <td>(1998)</td>\n",
       "      <td>1221</td>\n",
       "      <td>8.6</td>\n",
       "      <td>46.5%38.7%13.2%1.4%0.3%</td>\n",
       "      <td>46.5</td>\n",
       "      <td>38.7</td>\n",
       "      <td>13.2</td>\n",
       "      <td>1.4</td>\n",
       "      <td>0.3</td>\n",
       "    </tr>\n",
       "    <tr>\n",
       "      <th>你被写在我的眼睛里 Kismet Diner</th>\n",
       "      <td>[英国]</td>\n",
       "      <td></td>\n",
       "      <td>Mark Nunneley</td>\n",
       "      <td>(2013)</td>\n",
       "      <td>1215</td>\n",
       "      <td>8.6</td>\n",
       "      <td>44.3%41.4%13.1%0.8%0.3%</td>\n",
       "      <td>44.3</td>\n",
       "      <td>41.4</td>\n",
       "      <td>13.1</td>\n",
       "      <td>0.8</td>\n",
       "      <td>0.3</td>\n",
       "    </tr>\n",
       "    <tr>\n",
       "      <th>他们在岛屿写作：寻找背海的人 他們在島嶼寫作：尋找背海的人</th>\n",
       "      <td>[台湾]</td>\n",
       "      <td>纪录片</td>\n",
       "      <td>林靖杰</td>\n",
       "      <td>(2011)</td>\n",
       "      <td>1206</td>\n",
       "      <td>8.6</td>\n",
       "      <td>43.1%45.6%10.3%0.9%0.1%</td>\n",
       "      <td>43.1</td>\n",
       "      <td>45.6</td>\n",
       "      <td>10.3</td>\n",
       "      <td>0.9</td>\n",
       "      <td>0.1</td>\n",
       "    </tr>\n",
       "    <tr>\n",
       "      <th>新乱世佳人</th>\n",
       "      <td>[中国大陆]</td>\n",
       "      <td>剧情家庭</td>\n",
       "      <td>杨文军</td>\n",
       "      <td>(1997)</td>\n",
       "      <td>1174</td>\n",
       "      <td>8.6</td>\n",
       "      <td>46.3%38.8%13.6%0.7%0.6%</td>\n",
       "      <td>46.3</td>\n",
       "      <td>38.8</td>\n",
       "      <td>13.6</td>\n",
       "      <td>0.7</td>\n",
       "      <td>0.6</td>\n",
       "    </tr>\n",
       "    <tr>\n",
       "      <th>发展受阻 第四季 Arrested Development Season 4</th>\n",
       "      <td>[美国]</td>\n",
       "      <td>喜剧</td>\n",
       "      <td>米切尔·胡尔韦兹 Troy Miller</td>\n",
       "      <td>(2013)</td>\n",
       "      <td>1158</td>\n",
       "      <td>8.6</td>\n",
       "      <td>49.2%33.3%14.4%2.4%0.7%</td>\n",
       "      <td>49.2</td>\n",
       "      <td>33.3</td>\n",
       "      <td>14.4</td>\n",
       "      <td>2.4</td>\n",
       "      <td>0.7</td>\n",
       "    </tr>\n",
       "    <tr>\n",
       "      <th>天行九歌</th>\n",
       "      <td>[中国大陆]</td>\n",
       "      <td>剧情动画历史冒险武侠</td>\n",
       "      <td>沈乐平</td>\n",
       "      <td>(2016)</td>\n",
       "      <td>1155</td>\n",
       "      <td>8.6</td>\n",
       "      <td>52.5%31.4%11.5%2.4%2.2%</td>\n",
       "      <td>52.5</td>\n",
       "      <td>31.4</td>\n",
       "      <td>11.5</td>\n",
       "      <td>2.4</td>\n",
       "      <td>2.2</td>\n",
       "    </tr>\n",
       "    <tr>\n",
       "      <th>娱乐金鱼眼 きんぎょ注意報！</th>\n",
       "      <td>[日本]</td>\n",
       "      <td>喜剧动画</td>\n",
       "      <td>梅澤淳稔山吉康夫几原邦彦佐藤顺一遠藤勇二岡佳広</td>\n",
       "      <td>(1991)</td>\n",
       "      <td>1150</td>\n",
       "      <td>8.6</td>\n",
       "      <td>49.1%34.9%15.3%0.6%0.1%</td>\n",
       "      <td>49.1</td>\n",
       "      <td>34.9</td>\n",
       "      <td>15.3</td>\n",
       "      <td>0.6</td>\n",
       "      <td>0.1</td>\n",
       "    </tr>\n",
       "    <tr>\n",
       "      <th>特种部队 G.I. Joe</th>\n",
       "      <td>[美国, 日本]</td>\n",
       "      <td>动画</td>\n",
       "      <td>Jay BacalRay Lee</td>\n",
       "      <td>(1985)</td>\n",
       "      <td>1138</td>\n",
       "      <td>8.6</td>\n",
       "      <td>49.5%32.9%16.7%0.9%0.0%</td>\n",
       "      <td>49.5</td>\n",
       "      <td>32.9</td>\n",
       "      <td>16.7</td>\n",
       "      <td>0.9</td>\n",
       "      <td>0.0</td>\n",
       "    </tr>\n",
       "    <tr>\n",
       "      <th>泰星来客 第一季 Earth: Final Conflict Season 1</th>\n",
       "      <td>[加拿大, 美国, 德国]</td>\n",
       "      <td>剧情动作科幻悬疑</td>\n",
       "      <td>Gene Roddenberry</td>\n",
       "      <td>(1997)</td>\n",
       "      <td>1120</td>\n",
       "      <td>8.6</td>\n",
       "      <td>47.5%38.5%12.3%1.1%0.5%</td>\n",
       "      <td>47.5</td>\n",
       "      <td>38.5</td>\n",
       "      <td>12.3</td>\n",
       "      <td>1.1</td>\n",
       "      <td>0.5</td>\n",
       "    </tr>\n",
       "    <tr>\n",
       "      <th>记录伍迪·艾伦：导演剧场版 Woody Allen: A Documentary</th>\n",
       "      <td>[美国]</td>\n",
       "      <td>纪录片</td>\n",
       "      <td>罗伯特·B·维德</td>\n",
       "      <td>(2012)</td>\n",
       "      <td>1118</td>\n",
       "      <td>8.6</td>\n",
       "      <td>40.4%49.3%9.7%0.5%0.1%</td>\n",
       "      <td>40.4</td>\n",
       "      <td>49.3</td>\n",
       "      <td>9.7</td>\n",
       "      <td>0.5</td>\n",
       "      <td>0.1</td>\n",
       "    </tr>\n",
       "    <tr>\n",
       "      <th>人生Best Ten 人生ベストテン</th>\n",
       "      <td>[日本]</td>\n",
       "      <td>剧情爱情动画</td>\n",
       "      <td>三浦阳</td>\n",
       "      <td>(2013)</td>\n",
       "      <td>1091</td>\n",
       "      <td>8.6</td>\n",
       "      <td>44.0%42.2%12.6%1.1%0.1%</td>\n",
       "      <td>44.0</td>\n",
       "      <td>42.2</td>\n",
       "      <td>12.6</td>\n",
       "      <td>1.1</td>\n",
       "      <td>0.1</td>\n",
       "    </tr>\n",
       "    <tr>\n",
       "      <th>流浪汉 The Tramp</th>\n",
       "      <td>[美国]</td>\n",
       "      <td>喜剧短片</td>\n",
       "      <td>查理·卓别林</td>\n",
       "      <td>(1915)</td>\n",
       "      <td>1083</td>\n",
       "      <td>8.6</td>\n",
       "      <td>45.6%40.4%13.3%0.7%0.0%</td>\n",
       "      <td>45.6</td>\n",
       "      <td>40.4</td>\n",
       "      <td>13.3</td>\n",
       "      <td>0.7</td>\n",
       "      <td>0.0</td>\n",
       "    </tr>\n",
       "    <tr>\n",
       "      <th>口袋妖怪：原初之章 ポケットモンスター THE ORIGIN</th>\n",
       "      <td>[日本]</td>\n",
       "      <td>动画冒险</td>\n",
       "      <td>川崎逸朗黒田幸生冨安大貴高橋秀弥</td>\n",
       "      <td>(2013)</td>\n",
       "      <td>1082</td>\n",
       "      <td>8.6</td>\n",
       "      <td>51.3%31.3%15.4%0.9%1.1%</td>\n",
       "      <td>51.3</td>\n",
       "      <td>31.3</td>\n",
       "      <td>15.4</td>\n",
       "      <td>0.9</td>\n",
       "      <td>1.1</td>\n",
       "    </tr>\n",
       "    <tr>\n",
       "      <th>想吃杂烩面 ちゃんぽん食べたか</th>\n",
       "      <td>[日本]</td>\n",
       "      <td></td>\n",
       "      <td>清水一彦川野秀昭</td>\n",
       "      <td>(2015)</td>\n",
       "      <td>1073</td>\n",
       "      <td>8.6</td>\n",
       "      <td>46.0%40.5%12.2%1.1%0.1%</td>\n",
       "      <td>46.0</td>\n",
       "      <td>40.5</td>\n",
       "      <td>12.2</td>\n",
       "      <td>1.1</td>\n",
       "      <td>0.1</td>\n",
       "    </tr>\n",
       "    <tr>\n",
       "      <th>飞狼 Airwolf</th>\n",
       "      <td>[美国]</td>\n",
       "      <td>动作科幻冒险</td>\n",
       "      <td>唐纳德·P·贝里萨里奥</td>\n",
       "      <td>(1984)</td>\n",
       "      <td>1055</td>\n",
       "      <td>8.6</td>\n",
       "      <td>45.6%38.8%14.9%0.5%0.3%</td>\n",
       "      <td>45.6</td>\n",
       "      <td>38.8</td>\n",
       "      <td>14.9</td>\n",
       "      <td>0.5</td>\n",
       "      <td>0.3</td>\n",
       "    </tr>\n",
       "    <tr>\n",
       "      <th>三生三世 聂华苓 三生三世 聶華苓</th>\n",
       "      <td>[香港]</td>\n",
       "      <td>纪录片传记历史</td>\n",
       "      <td>陈安琪</td>\n",
       "      <td>(2012)</td>\n",
       "      <td>1049</td>\n",
       "      <td>8.6</td>\n",
       "      <td>44.7%42.6%11.3%1.4%0.0%</td>\n",
       "      <td>44.7</td>\n",
       "      <td>42.6</td>\n",
       "      <td>11.3</td>\n",
       "      <td>1.4</td>\n",
       "      <td>0.0</td>\n",
       "    </tr>\n",
       "    <tr>\n",
       "      <th>逍遥法外 第三季 How to Get Away with Murder Season 3</th>\n",
       "      <td>[美国]</td>\n",
       "      <td>剧情悬疑犯罪</td>\n",
       "      <td>比尔·德埃利亚</td>\n",
       "      <td>(2016)</td>\n",
       "      <td>1046</td>\n",
       "      <td>8.6</td>\n",
       "      <td>48.1%38.8%11.1%1.3%0.7%</td>\n",
       "      <td>48.1</td>\n",
       "      <td>38.8</td>\n",
       "      <td>11.1</td>\n",
       "      <td>1.3</td>\n",
       "      <td>0.7</td>\n",
       "    </tr>\n",
       "    <tr>\n",
       "      <th>围困城堡 La Citadelle assiégée</th>\n",
       "      <td>[法国, 加拿大]</td>\n",
       "      <td>纪录片</td>\n",
       "      <td>Philippe Calderon</td>\n",
       "      <td>(2006)</td>\n",
       "      <td>1038</td>\n",
       "      <td>8.6</td>\n",
       "      <td>45.5%42.4%10.8%0.5%0.8%</td>\n",
       "      <td>45.5</td>\n",
       "      <td>42.4</td>\n",
       "      <td>10.8</td>\n",
       "      <td>0.5</td>\n",
       "      <td>0.8</td>\n",
       "    </tr>\n",
       "    <tr>\n",
       "      <th>时代精神3：迈步向前 Zeitgeist: Moving Forward</th>\n",
       "      <td>[美国]</td>\n",
       "      <td>纪录片</td>\n",
       "      <td>彼得·约瑟夫</td>\n",
       "      <td>(2011)</td>\n",
       "      <td>1032</td>\n",
       "      <td>8.6</td>\n",
       "      <td>52.5%32.1%11.1%2.8%1.4%</td>\n",
       "      <td>52.5</td>\n",
       "      <td>32.1</td>\n",
       "      <td>11.1</td>\n",
       "      <td>2.8</td>\n",
       "      <td>1.4</td>\n",
       "    </tr>\n",
       "    <tr>\n",
       "      <th>世纪末救世主传说 北斗神拳2 世紀末救世主伝説 北斗の拳2</th>\n",
       "      <td>[日本]</td>\n",
       "      <td>动作动画</td>\n",
       "      <td>芦田豊雄原作：武論尊、原哲夫</td>\n",
       "      <td>(1987)</td>\n",
       "      <td>1032</td>\n",
       "      <td>8.6</td>\n",
       "      <td>45.2%39.5%13.9%1.2%0.1%</td>\n",
       "      <td>45.2</td>\n",
       "      <td>39.5</td>\n",
       "      <td>13.9</td>\n",
       "      <td>1.2</td>\n",
       "      <td>0.1</td>\n",
       "    </tr>\n",
       "    <tr>\n",
       "      <th>刺客侯孝贤</th>\n",
       "      <td>[中国大陆]</td>\n",
       "      <td>纪录片</td>\n",
       "      <td>杨笑梅</td>\n",
       "      <td>(2015)</td>\n",
       "      <td>1031</td>\n",
       "      <td>8.6</td>\n",
       "      <td>45.7%41.7%10.5%1.2%0.9%</td>\n",
       "      <td>45.7</td>\n",
       "      <td>41.7</td>\n",
       "      <td>10.5</td>\n",
       "      <td>1.2</td>\n",
       "      <td>0.9</td>\n",
       "    </tr>\n",
       "    <tr>\n",
       "      <th>境界线上的地平线Ⅱ 境界線上のホライゾンⅡ</th>\n",
       "      <td>[日本]</td>\n",
       "      <td>动画</td>\n",
       "      <td>小野学</td>\n",
       "      <td>(2012)</td>\n",
       "      <td>1028</td>\n",
       "      <td>8.6</td>\n",
       "      <td>49.9%31.5%16.1%1.6%1.0%</td>\n",
       "      <td>49.9</td>\n",
       "      <td>31.5</td>\n",
       "      <td>16.1</td>\n",
       "      <td>1.6</td>\n",
       "      <td>1.0</td>\n",
       "    </tr>\n",
       "    <tr>\n",
       "      <th>阿赫迈德王子历险记 Die Abenteuer des Prinzen Achmed</th>\n",
       "      <td>[德国]</td>\n",
       "      <td>爱情动画奇幻冒险</td>\n",
       "      <td>洛特·雷妮格</td>\n",
       "      <td>(1926)</td>\n",
       "      <td>1025</td>\n",
       "      <td>8.6</td>\n",
       "      <td>45.1%42.6%10.9%1.0%0.4%</td>\n",
       "      <td>45.1</td>\n",
       "      <td>42.6</td>\n",
       "      <td>10.9</td>\n",
       "      <td>1.0</td>\n",
       "      <td>0.4</td>\n",
       "    </tr>\n",
       "    <tr>\n",
       "      <th>维兰德 第三季 Wallander Season 3</th>\n",
       "      <td>[英国]</td>\n",
       "      <td>惊悚犯罪</td>\n",
       "      <td>托比·海恩斯</td>\n",
       "      <td>(2012)</td>\n",
       "      <td>1024</td>\n",
       "      <td>8.6</td>\n",
       "      <td>41.9%47.0%10.2%0.7%0.3%</td>\n",
       "      <td>41.9</td>\n",
       "      <td>47.0</td>\n",
       "      <td>10.2</td>\n",
       "      <td>0.7</td>\n",
       "      <td>0.3</td>\n",
       "    </tr>\n",
       "    <tr>\n",
       "      <th>风城大佬 第一季 Boss Season 1</th>\n",
       "      <td>[美国]</td>\n",
       "      <td>剧情</td>\n",
       "      <td>让·德·塞贡扎克马里奥·范·皮布尔斯Jim McKay</td>\n",
       "      <td>(2011)</td>\n",
       "      <td>1009</td>\n",
       "      <td>8.6</td>\n",
       "      <td>48.9%36.8%11.7%2.4%0.1%</td>\n",
       "      <td>48.9</td>\n",
       "      <td>36.8</td>\n",
       "      <td>11.7</td>\n",
       "      <td>2.4</td>\n",
       "      <td>0.1</td>\n",
       "    </tr>\n",
       "    <tr>\n",
       "      <th>偶剧 Screen Play</th>\n",
       "      <td>[英国]</td>\n",
       "      <td>动画短片</td>\n",
       "      <td>巴瑞·普维斯</td>\n",
       "      <td>(1993)</td>\n",
       "      <td>1001</td>\n",
       "      <td>8.6</td>\n",
       "      <td>46.7%38.3%13.1%1.7%0.3%</td>\n",
       "      <td>46.7</td>\n",
       "      <td>38.3</td>\n",
       "      <td>13.1</td>\n",
       "      <td>1.7</td>\n",
       "      <td>0.3</td>\n",
       "    </tr>\n",
       "  </tbody>\n",
       "</table>\n",
       "<p>2259 rows × 12 columns</p>\n",
       "</div>"
      ],
      "text/plain": [
       "                                                          Country       Genre  \\\n",
       "Name                                                                            \n",
       "老友记 第十季 Friends Season 10                                    [美国]        喜剧爱情   \n",
       "人类星球 Human Planet                                            [英国]         纪录片   \n",
       "是，大臣  第二季 Yes Minister Season 2                              [英国]          喜剧   \n",
       "是，大臣  第三季 Yes Minister Season 3                              [英国]          喜剧   \n",
       "是，首相  第二季 Yes, Prime Minister Season 2                       [英国]          喜剧   \n",
       "猎捕 The Hunt                                                  [英国]         纪录片   \n",
       "老友记 第二季 Friends Season 2                                     [美国]        喜剧爱情   \n",
       "老友记  第三季 Friends Season 3                                    [美国]        喜剧爱情   \n",
       "老友记  第四季 Friends Season 4                                    [美国]        喜剧爱情   \n",
       "老友记  第五季 Friends Season 5                                    [美国]        喜剧爱情   \n",
       "老友记  第六季 Friends Season 6                                    [美国]        喜剧爱情   \n",
       "老友记  第七季 Friends Season 7                                    [美国]        喜剧爱情   \n",
       "老友记  第八季 Friends Season 8                                    [美国]        喜剧爱情   \n",
       "老友记  第九季 Friends Season 9                                    [美国]        喜剧爱情   \n",
       "银魂 第二季 銀魂'                                                   [日本]      剧情动作动画   \n",
       "地球脉动 第一季 Planet Earth Season 1                               [英国]         纪录片   \n",
       "瑞克和莫蒂 第二季 Rick and Morty Season 2                            [美国]    喜剧科幻动画冒险   \n",
       "久石让在武道馆：与宫崎骏动画一同走过的25年 久石譲 in 武道館 ~宮崎アニメと共に歩んだ25年間           [日本]       纪录片音乐   \n",
       "是，首相 第一季 Yes, Prime Minister Season 1                        [英国]          喜剧   \n",
       "冰冻星球 Frozen Planet                                           [英国]         纪录片   \n",
       "涅磐纽约不插电演唱会 Nirvana: Unplugged In New York                   [USA]       纪录片音乐   \n",
       "BBC：非洲 BBC: Africa                                           [英国]         纪录片   \n",
       "南太平洋 South Pacific                                           [英国]         纪录片   \n",
       "企鹅群里有特务 Penguins: Spy in the Huddle                          [英国]         纪录片   \n",
       "生命 Life                                                  [英国, 希腊]         纪录片   \n",
       "艺术创想 Art Attack                                              [英国]               \n",
       "剧院魅影：25周年纪念演出 The Phantom of the Opera at the R...           [英国]      剧情音乐歌舞   \n",
       "嵐の宿題くん                                                       [日本]        喜剧家庭   \n",
       "迈克尔·杰克逊-危险之旅之布加勒斯特站 Michael Jackson Live in Buc...           [美国]          音乐   \n",
       "探险活宝 第四季 Adventure Time Season 4                             [美国]  剧情喜剧动画奇幻冒险   \n",
       "...                                                           ...         ...   \n",
       "雪地黄金犬 White Fang                                             [美国]        剧情冒险   \n",
       "文艺复兴 Renaissance Revolution                                  [英国]         纪录片   \n",
       "钢之炼金术师：单纯的人们 鋼の錬金術師 シンプルな人々                                  [日本]          动画   \n",
       "死亡之夜 Dead of Night                                           [英国]      悬疑惊悚恐怖   \n",
       "费丽丝蒂 第一季 Felicity Season 1                                   [美国]          剧情   \n",
       "你被写在我的眼睛里 Kismet Diner                                       [英国]               \n",
       "他们在岛屿写作：寻找背海的人 他們在島嶼寫作：尋找背海的人                                [台湾]         纪录片   \n",
       "新乱世佳人                                                      [中国大陆]        剧情家庭   \n",
       "发展受阻 第四季 Arrested Development Season 4                       [美国]          喜剧   \n",
       "天行九歌                                                       [中国大陆]  剧情动画历史冒险武侠   \n",
       "娱乐金鱼眼 きんぎょ注意報！                                               [日本]        喜剧动画   \n",
       "特种部队 G.I. Joe                                            [美国, 日本]          动画   \n",
       "泰星来客 第一季 Earth: Final Conflict Season 1             [加拿大, 美国, 德国]    剧情动作科幻悬疑   \n",
       "记录伍迪·艾伦：导演剧场版 Woody Allen: A Documentary                     [美国]         纪录片   \n",
       "人生Best Ten 人生ベストテン                                           [日本]      剧情爱情动画   \n",
       "流浪汉 The Tramp                                                [美国]        喜剧短片   \n",
       "口袋妖怪：原初之章 ポケットモンスター THE ORIGIN                               [日本]        动画冒险   \n",
       "想吃杂烩面 ちゃんぽん食べたか                                              [日本]               \n",
       "飞狼 Airwolf                                                   [美国]      动作科幻冒险   \n",
       "三生三世 聂华苓 三生三世 聶華苓                                            [香港]     纪录片传记历史   \n",
       "逍遥法外 第三季 How to Get Away with Murder Season 3                [美国]      剧情悬疑犯罪   \n",
       "围困城堡 La Citadelle assiégée                              [法国, 加拿大]         纪录片   \n",
       "时代精神3：迈步向前 Zeitgeist: Moving Forward                         [美国]         纪录片   \n",
       "世纪末救世主传说 北斗神拳2 世紀末救世主伝説 北斗の拳2                                [日本]        动作动画   \n",
       "刺客侯孝贤                                                      [中国大陆]         纪录片   \n",
       "境界线上的地平线Ⅱ 境界線上のホライゾンⅡ                                        [日本]          动画   \n",
       "阿赫迈德王子历险记 Die Abenteuer des Prinzen Achmed                   [德国]    爱情动画奇幻冒险   \n",
       "维兰德 第三季 Wallander Season 3                                   [英国]        惊悚犯罪   \n",
       "风城大佬 第一季 Boss Season 1                                       [美国]          剧情   \n",
       "偶剧 Screen Play                                               [英国]        动画短片   \n",
       "\n",
       "                                                                                             Director  \\\n",
       "Name                                                                                                    \n",
       "老友记 第十季 Friends Season 10                                                                Kevin Bright   \n",
       "人类星球 Human Planet                                   Tom Hugh-JonesTuppence StoneNicolas BrownMark ...   \n",
       "是，大臣  第二季 Yes Minister Season 2                                         Peter WhitmoreSydney Lotterby   \n",
       "是，大臣  第三季 Yes Minister Season 3                                         Sydney LotterbyPeter Whitmore   \n",
       "是，首相  第二季 Yes, Prime Minister Season 2                                  Peter WhitmoreSydney Lotterby   \n",
       "猎捕 The Hunt                                                                              Rob Sullivan   \n",
       "老友记 第二季 Friends Season 2                                                                      迈克尔·莱拜克   \n",
       "老友记  第三季 Friends Season 3                                                                Gail Mancuso   \n",
       "老友记  第四季 Friends Season 4                                                              Shelley Jensen   \n",
       "老友记  第五季 Friends Season 5                                                                Kevin Bright   \n",
       "老友记  第六季 Friends Season 6                                                                Kevin Bright   \n",
       "老友记  第七季 Friends Season 7                                                                Kevin Bright   \n",
       "老友记  第八季 Friends Season 8                                                                Kevin Bright   \n",
       "老友记  第九季 Friends Season 9                                                                Kevin Bright   \n",
       "银魂 第二季 銀魂'                                                                                       藤田阳一   \n",
       "地球脉动 第一季 Planet Earth Season 1                                                              艾雷斯泰·法瑟吉尔   \n",
       "瑞克和莫蒂 第二季 Rick and Morty Season 2                                                       韦斯利·阿彻皮特·米歇尔斯   \n",
       "久石让在武道馆：与宫崎骏动画一同走过的25年 久石譲 in 武道館 ~宮崎アニメと共に歩んだ25年間                                                      \n",
       "是，首相 第一季 Yes, Prime Minister Season 1                                   Peter WhitmoreSydney Lotterby   \n",
       "冰冻星球 Frozen Planet                                                                          艾雷斯泰·法瑟吉尔   \n",
       "涅磐纽约不插电演唱会 Nirvana: Unplugged In New York                                        Beth McCarthy-Miller   \n",
       "BBC：非洲 BBC: Africa                                                                    Katrina Bartlam   \n",
       "南太平洋 South Pacific                                           Mark BrownlowChiara BellatiJonathan Clay   \n",
       "企鹅群里有特务 Penguins: Spy in the Huddle                                                             约翰·唐纳   \n",
       "生命 Life                                                             玛莎·霍尔姆斯Simon BlakeneyStephen Lyle   \n",
       "艺术创想 Art Attack                                     Richard BradleyJeremy CrossNick BigsbyTim Edmu...   \n",
       "剧院魅影：25周年纪念演出 The Phantom of the Opera at the R...                         Nick MorrisLaurence Connor   \n",
       "嵐の宿題くん                                                                                                  \n",
       "迈克尔·杰克逊-危险之旅之布加勒斯特站 Michael Jackson Live in Buc...                                                      \n",
       "探险活宝 第四季 Adventure Time Season 4                                                     Larry Leichliter   \n",
       "...                                                                                               ...   \n",
       "雪地黄金犬 White Fang                                                                              兰德尔·克莱泽   \n",
       "文艺复兴 Renaissance Revolution                                                                    兰德尔·赖特   \n",
       "钢之炼金术师：单纯的人们 鋼の錬金術師 シンプルな人々                                                                       荒川弘   \n",
       "死亡之夜 Dead of Night                                                    阿尔贝托·卡瓦尔康蒂巴兹尔·迪尔登查尔斯·克瑞奇顿罗伯特·哈默   \n",
       "费丽丝蒂 第一季 Felicity Season 1                                               Lawrence TrillingHarry Winer   \n",
       "你被写在我的眼睛里 Kismet Diner                                                                  Mark Nunneley   \n",
       "他们在岛屿写作：寻找背海的人 他們在島嶼寫作：尋找背海的人                                                                     林靖杰   \n",
       "新乱世佳人                                                                                             杨文军   \n",
       "发展受阻 第四季 Arrested Development Season 4                                           米切尔·胡尔韦兹 Troy Miller   \n",
       "天行九歌                                                                                              沈乐平   \n",
       "娱乐金鱼眼 きんぎょ注意報！                                                                梅澤淳稔山吉康夫几原邦彦佐藤顺一遠藤勇二岡佳広   \n",
       "特种部队 G.I. Joe                                                                        Jay BacalRay Lee   \n",
       "泰星来客 第一季 Earth: Final Conflict Season 1                                              Gene Roddenberry   \n",
       "记录伍迪·艾伦：导演剧场版 Woody Allen: A Documentary                                                     罗伯特·B·维德   \n",
       "人生Best Ten 人生ベストテン                                                                                三浦阳   \n",
       "流浪汉 The Tramp                                                                                  查理·卓别林   \n",
       "口袋妖怪：原初之章 ポケットモンスター THE ORIGIN                                                       川崎逸朗黒田幸生冨安大貴高橋秀弥   \n",
       "想吃杂烩面 ちゃんぽん食べたか                                                                              清水一彦川野秀昭   \n",
       "飞狼 Airwolf                                                                                唐纳德·P·贝里萨里奥   \n",
       "三生三世 聂华苓 三生三世 聶華苓                                                                                 陈安琪   \n",
       "逍遥法外 第三季 How to Get Away with Murder Season 3                                                 比尔·德埃利亚   \n",
       "围困城堡 La Citadelle assiégée                                                          Philippe Calderon   \n",
       "时代精神3：迈步向前 Zeitgeist: Moving Forward                                                           彼得·约瑟夫   \n",
       "世纪末救世主传说 北斗神拳2 世紀末救世主伝説 北斗の拳2                                                          芦田豊雄原作：武論尊、原哲夫   \n",
       "刺客侯孝贤                                                                                             杨笑梅   \n",
       "境界线上的地平线Ⅱ 境界線上のホライゾンⅡ                                                                             小野学   \n",
       "阿赫迈德王子历险记 Die Abenteuer des Prinzen Achmed                                                     洛特·雷妮格   \n",
       "维兰德 第三季 Wallander Season 3                                                                     托比·海恩斯   \n",
       "风城大佬 第一季 Boss Season 1                                                    让·德·塞贡扎克马里奥·范·皮布尔斯Jim McKay   \n",
       "偶剧 Screen Play                                                                                 巴瑞·普维斯   \n",
       "\n",
       "                                                      Time  VoterNumber  Star  \\\n",
       "Name                                                                            \n",
       "老友记 第十季 Friends Season 10                           (2003)        37085   9.8   \n",
       "人类星球 Human Planet                                   (2011)         8397   9.8   \n",
       "是，大臣  第二季 Yes Minister Season 2                     (1981)         5031   9.8   \n",
       "是，大臣  第三季 Yes Minister Season 3                     (1982)         4865   9.8   \n",
       "是，首相  第二季 Yes, Prime Minister Season 2              (1987)         4192   9.8   \n",
       "猎捕 The Hunt                                         (2015)         4046   9.8   \n",
       "老友记 第二季 Friends Season 2                            (1995)        40212   9.7   \n",
       "老友记  第三季 Friends Season 3                           (1996)        35981   9.7   \n",
       "老友记  第四季 Friends Season 4                           (1997)        34130   9.7   \n",
       "老友记  第五季 Friends Season 5                           (1998)        32812   9.7   \n",
       "老友记  第六季 Friends Season 6                           (1999)        32025   9.7   \n",
       "老友记  第七季 Friends Season 7                           (2000)        30660   9.7   \n",
       "老友记  第八季 Friends Season 8                           (2001)        30025   9.7   \n",
       "老友记  第九季 Friends Season 9                           (2002)        29378   9.7   \n",
       "银魂 第二季 銀魂'                                          (2011)        27492   9.7   \n",
       "地球脉动 第一季 Planet Earth Season 1                      (2006)        17347   9.7   \n",
       "瑞克和莫蒂 第二季 Rick and Morty Season 2                   (2015)        11342   9.7   \n",
       "久石让在武道馆：与宫崎骏动画一同走过的25年 久石譲 in 武道館 ~宮崎アニメと共に歩んだ25年間  (2008)         8917   9.7   \n",
       "是，首相 第一季 Yes, Prime Minister Season 1               (1986)         8895   9.7   \n",
       "冰冻星球 Frozen Planet                                  (2011)         7798   9.7   \n",
       "涅磐纽约不插电演唱会 Nirvana: Unplugged In New York           (1993)         6010   9.7   \n",
       "BBC：非洲 BBC: Africa                                  (2013)         5299   9.7   \n",
       "南太平洋 South Pacific                                  (2009)         5254   9.7   \n",
       "企鹅群里有特务 Penguins: Spy in the Huddle                 (2012)         4978   9.7   \n",
       "生命 Life                                             (2009)         4968   9.7   \n",
       "艺术创想 Art Attack                                     (1990)         3503   9.7   \n",
       "剧院魅影：25周年纪念演出 The Phantom of the Opera at the R...  (2011)         2831   9.7   \n",
       "嵐の宿題くん                                              (2006)         1904   9.7   \n",
       "迈克尔·杰克逊-危险之旅之布加勒斯特站 Michael Jackson Live in Buc...  (1992)         1814   9.7   \n",
       "探险活宝 第四季 Adventure Time Season 4                    (2012)         1174   9.7   \n",
       "...                                                    ...          ...   ...   \n",
       "雪地黄金犬 White Fang                                    (1991)         1313   8.6   \n",
       "文艺复兴 Renaissance Revolution                         (2010)         1287   8.6   \n",
       "钢之炼金术师：单纯的人们 鋼の錬金術師 シンプルな人々                         (2009)         1259   8.6   \n",
       "死亡之夜 Dead of Night                                  (1945)         1247   8.6   \n",
       "费丽丝蒂 第一季 Felicity Season 1                          (1998)         1221   8.6   \n",
       "你被写在我的眼睛里 Kismet Diner                              (2013)         1215   8.6   \n",
       "他们在岛屿写作：寻找背海的人 他們在島嶼寫作：尋找背海的人                       (2011)         1206   8.6   \n",
       "新乱世佳人                                               (1997)         1174   8.6   \n",
       "发展受阻 第四季 Arrested Development Season 4              (2013)         1158   8.6   \n",
       "天行九歌                                                (2016)         1155   8.6   \n",
       "娱乐金鱼眼 きんぎょ注意報！                                      (1991)         1150   8.6   \n",
       "特种部队 G.I. Joe                                       (1985)         1138   8.6   \n",
       "泰星来客 第一季 Earth: Final Conflict Season 1             (1997)         1120   8.6   \n",
       "记录伍迪·艾伦：导演剧场版 Woody Allen: A Documentary            (2012)         1118   8.6   \n",
       "人生Best Ten 人生ベストテン                                  (2013)         1091   8.6   \n",
       "流浪汉 The Tramp                                       (1915)         1083   8.6   \n",
       "口袋妖怪：原初之章 ポケットモンスター THE ORIGIN                      (2013)         1082   8.6   \n",
       "想吃杂烩面 ちゃんぽん食べたか                                     (2015)         1073   8.6   \n",
       "飞狼 Airwolf                                          (1984)         1055   8.6   \n",
       "三生三世 聂华苓 三生三世 聶華苓                                   (2012)         1049   8.6   \n",
       "逍遥法外 第三季 How to Get Away with Murder Season 3       (2016)         1046   8.6   \n",
       "围困城堡 La Citadelle assiégée                          (2006)         1038   8.6   \n",
       "时代精神3：迈步向前 Zeitgeist: Moving Forward                (2011)         1032   8.6   \n",
       "世纪末救世主传说 北斗神拳2 世紀末救世主伝説 北斗の拳2                       (1987)         1032   8.6   \n",
       "刺客侯孝贤                                               (2015)         1031   8.6   \n",
       "境界线上的地平线Ⅱ 境界線上のホライゾンⅡ                               (2012)         1028   8.6   \n",
       "阿赫迈德王子历险记 Die Abenteuer des Prinzen Achmed          (1926)         1025   8.6   \n",
       "维兰德 第三季 Wallander Season 3                          (2012)         1024   8.6   \n",
       "风城大佬 第一季 Boss Season 1                              (2011)         1009   8.6   \n",
       "偶剧 Screen Play                                      (1993)         1001   8.6   \n",
       "\n",
       "                                                           StarDistribution  \\\n",
       "Name                                                                          \n",
       "老友记 第十季 Friends Season 10                             90.4%8.2%1.2%0.1%0.1%   \n",
       "人类星球 Human Planet                                     89.5%9.3%1.0%0.1%0.2%   \n",
       "是，大臣  第二季 Yes Minister Season 2                       91.1%8.0%0.8%0.0%0.0%   \n",
       "是，大臣  第三季 Yes Minister Season 3                       91.5%7.2%1.0%0.1%0.2%   \n",
       "是，首相  第二季 Yes, Prime Minister Season 2                90.7%8.3%0.8%0.0%0.2%   \n",
       "猎捕 The Hunt                                           90.9%7.6%1.2%0.1%0.3%   \n",
       "老友记 第二季 Friends Season 2                             86.4%12.1%1.4%0.0%0.0%   \n",
       "老友记  第三季 Friends Season 3                            86.5%12.0%1.4%0.1%0.0%   \n",
       "老友记  第四季 Friends Season 4                            87.2%11.4%1.3%0.1%0.0%   \n",
       "老友记  第五季 Friends Season 5                            87.6%11.0%1.3%0.0%0.0%   \n",
       "老友记  第六季 Friends Season 6                            87.9%10.8%1.3%0.1%0.0%   \n",
       "老友记  第七季 Friends Season 7                            87.4%11.0%1.4%0.1%0.0%   \n",
       "老友记  第八季 Friends Season 8                            87.2%11.2%1.5%0.1%0.0%   \n",
       "老友记  第九季 Friends Season 9                            87.0%11.3%1.6%0.1%0.1%   \n",
       "银魂 第二季 銀魂'                                           87.3%10.2%2.0%0.2%0.3%   \n",
       "地球脉动 第一季 Planet Earth Season 1                       86.9%11.4%1.6%0.1%0.1%   \n",
       "瑞克和莫蒂 第二季 Rick and Morty Season 2                    88.8%10.0%1.0%0.1%0.1%   \n",
       "久石让在武道馆：与宫崎骏动画一同走过的25年 久石譲 in 武道館 ~宮崎アニメと共に歩んだ25年間   87.8%10.7%1.3%0.1%0.1%   \n",
       "是，首相 第一季 Yes, Prime Minister Season 1                86.0%12.1%1.7%0.1%0.1%   \n",
       "冰冻星球 Frozen Planet                                   88.5%10.4%1.0%0.1%0.1%   \n",
       "涅磐纽约不插电演唱会 Nirvana: Unplugged In New York            87.3%11.0%1.5%0.1%0.1%   \n",
       "BBC：非洲 BBC: Africa                                   87.9%11.1%0.9%0.0%0.1%   \n",
       "南太平洋 South Pacific                                   84.9%13.3%1.6%0.1%0.1%   \n",
       "企鹅群里有特务 Penguins: Spy in the Huddle                  85.0%13.8%1.1%0.0%0.1%   \n",
       "生命 Life                                              85.6%13.2%1.0%0.1%0.1%   \n",
       "艺术创想 Art Attack                                      86.4%11.0%2.5%0.0%0.1%   \n",
       "剧院魅影：25周年纪念演出 The Phantom of the Opera at the R...   86.7%11.6%1.6%0.1%0.0%   \n",
       "嵐の宿題くん                                               87.6%10.4%1.6%0.1%0.3%   \n",
       "迈克尔·杰克逊-危险之旅之布加勒斯特站 Michael Jackson Live in Buc...   86.1%12.1%1.4%0.1%0.3%   \n",
       "探险活宝 第四季 Adventure Time Season 4                     85.4%12.7%1.7%0.0%0.2%   \n",
       "...                                                                     ...   \n",
       "雪地黄金犬 White Fang                                    42.2%45.4%11.7%0.6%0.1%   \n",
       "文艺复兴 Renaissance Revolution                          43.3%45.6%9.9%1.0%0.2%   \n",
       "钢之炼金术师：单纯的人们 鋼の錬金術師 シンプルな人々                         47.1%38.4%13.8%0.7%0.0%   \n",
       "死亡之夜 Dead of Night                                  43.0%45.1%10.2%1.1%0.6%   \n",
       "费丽丝蒂 第一季 Felicity Season 1                          46.5%38.7%13.2%1.4%0.3%   \n",
       "你被写在我的眼睛里 Kismet Diner                              44.3%41.4%13.1%0.8%0.3%   \n",
       "他们在岛屿写作：寻找背海的人 他們在島嶼寫作：尋找背海的人                       43.1%45.6%10.3%0.9%0.1%   \n",
       "新乱世佳人                                               46.3%38.8%13.6%0.7%0.6%   \n",
       "发展受阻 第四季 Arrested Development Season 4              49.2%33.3%14.4%2.4%0.7%   \n",
       "天行九歌                                                52.5%31.4%11.5%2.4%2.2%   \n",
       "娱乐金鱼眼 きんぎょ注意報！                                      49.1%34.9%15.3%0.6%0.1%   \n",
       "特种部队 G.I. Joe                                       49.5%32.9%16.7%0.9%0.0%   \n",
       "泰星来客 第一季 Earth: Final Conflict Season 1             47.5%38.5%12.3%1.1%0.5%   \n",
       "记录伍迪·艾伦：导演剧场版 Woody Allen: A Documentary             40.4%49.3%9.7%0.5%0.1%   \n",
       "人生Best Ten 人生ベストテン                                  44.0%42.2%12.6%1.1%0.1%   \n",
       "流浪汉 The Tramp                                       45.6%40.4%13.3%0.7%0.0%   \n",
       "口袋妖怪：原初之章 ポケットモンスター THE ORIGIN                      51.3%31.3%15.4%0.9%1.1%   \n",
       "想吃杂烩面 ちゃんぽん食べたか                                     46.0%40.5%12.2%1.1%0.1%   \n",
       "飞狼 Airwolf                                          45.6%38.8%14.9%0.5%0.3%   \n",
       "三生三世 聂华苓 三生三世 聶華苓                                   44.7%42.6%11.3%1.4%0.0%   \n",
       "逍遥法外 第三季 How to Get Away with Murder Season 3       48.1%38.8%11.1%1.3%0.7%   \n",
       "围困城堡 La Citadelle assiégée                          45.5%42.4%10.8%0.5%0.8%   \n",
       "时代精神3：迈步向前 Zeitgeist: Moving Forward                52.5%32.1%11.1%2.8%1.4%   \n",
       "世纪末救世主传说 北斗神拳2 世紀末救世主伝説 北斗の拳2                       45.2%39.5%13.9%1.2%0.1%   \n",
       "刺客侯孝贤                                               45.7%41.7%10.5%1.2%0.9%   \n",
       "境界线上的地平线Ⅱ 境界線上のホライゾンⅡ                               49.9%31.5%16.1%1.6%1.0%   \n",
       "阿赫迈德王子历险记 Die Abenteuer des Prinzen Achmed          45.1%42.6%10.9%1.0%0.4%   \n",
       "维兰德 第三季 Wallander Season 3                          41.9%47.0%10.2%0.7%0.3%   \n",
       "风城大佬 第一季 Boss Season 1                              48.9%36.8%11.7%2.4%0.1%   \n",
       "偶剧 Screen Play                                      46.7%38.3%13.1%1.7%0.3%   \n",
       "\n",
       "                                                    Ratio_Of_FiveStar  \\\n",
       "Name                                                                    \n",
       "老友记 第十季 Friends Season 10                                        90.4   \n",
       "人类星球 Human Planet                                                89.5   \n",
       "是，大臣  第二季 Yes Minister Season 2                                  91.1   \n",
       "是，大臣  第三季 Yes Minister Season 3                                  91.5   \n",
       "是，首相  第二季 Yes, Prime Minister Season 2                           90.7   \n",
       "猎捕 The Hunt                                                      90.9   \n",
       "老友记 第二季 Friends Season 2                                         86.4   \n",
       "老友记  第三季 Friends Season 3                                        86.5   \n",
       "老友记  第四季 Friends Season 4                                        87.2   \n",
       "老友记  第五季 Friends Season 5                                        87.6   \n",
       "老友记  第六季 Friends Season 6                                        87.9   \n",
       "老友记  第七季 Friends Season 7                                        87.4   \n",
       "老友记  第八季 Friends Season 8                                        87.2   \n",
       "老友记  第九季 Friends Season 9                                        87.0   \n",
       "银魂 第二季 銀魂'                                                       87.3   \n",
       "地球脉动 第一季 Planet Earth Season 1                                   86.9   \n",
       "瑞克和莫蒂 第二季 Rick and Morty Season 2                                88.8   \n",
       "久石让在武道馆：与宫崎骏动画一同走过的25年 久石譲 in 武道館 ~宮崎アニメと共に歩んだ25年間               87.8   \n",
       "是，首相 第一季 Yes, Prime Minister Season 1                            86.0   \n",
       "冰冻星球 Frozen Planet                                               88.5   \n",
       "涅磐纽约不插电演唱会 Nirvana: Unplugged In New York                        87.3   \n",
       "BBC：非洲 BBC: Africa                                               87.9   \n",
       "南太平洋 South Pacific                                               84.9   \n",
       "企鹅群里有特务 Penguins: Spy in the Huddle                              85.0   \n",
       "生命 Life                                                          85.6   \n",
       "艺术创想 Art Attack                                                  86.4   \n",
       "剧院魅影：25周年纪念演出 The Phantom of the Opera at the R...               86.7   \n",
       "嵐の宿題くん                                                           87.6   \n",
       "迈克尔·杰克逊-危险之旅之布加勒斯特站 Michael Jackson Live in Buc...               86.1   \n",
       "探险活宝 第四季 Adventure Time Season 4                                 85.4   \n",
       "...                                                               ...   \n",
       "雪地黄金犬 White Fang                                                 42.2   \n",
       "文艺复兴 Renaissance Revolution                                      43.3   \n",
       "钢之炼金术师：单纯的人们 鋼の錬金術師 シンプルな人々                                      47.1   \n",
       "死亡之夜 Dead of Night                                               43.0   \n",
       "费丽丝蒂 第一季 Felicity Season 1                                       46.5   \n",
       "你被写在我的眼睛里 Kismet Diner                                           44.3   \n",
       "他们在岛屿写作：寻找背海的人 他們在島嶼寫作：尋找背海的人                                    43.1   \n",
       "新乱世佳人                                                            46.3   \n",
       "发展受阻 第四季 Arrested Development Season 4                           49.2   \n",
       "天行九歌                                                             52.5   \n",
       "娱乐金鱼眼 きんぎょ注意報！                                                   49.1   \n",
       "特种部队 G.I. Joe                                                    49.5   \n",
       "泰星来客 第一季 Earth: Final Conflict Season 1                          47.5   \n",
       "记录伍迪·艾伦：导演剧场版 Woody Allen: A Documentary                         40.4   \n",
       "人生Best Ten 人生ベストテン                                               44.0   \n",
       "流浪汉 The Tramp                                                    45.6   \n",
       "口袋妖怪：原初之章 ポケットモンスター THE ORIGIN                                   51.3   \n",
       "想吃杂烩面 ちゃんぽん食べたか                                                  46.0   \n",
       "飞狼 Airwolf                                                       45.6   \n",
       "三生三世 聂华苓 三生三世 聶華苓                                                44.7   \n",
       "逍遥法外 第三季 How to Get Away with Murder Season 3                    48.1   \n",
       "围困城堡 La Citadelle assiégée                                       45.5   \n",
       "时代精神3：迈步向前 Zeitgeist: Moving Forward                             52.5   \n",
       "世纪末救世主传说 北斗神拳2 世紀末救世主伝説 北斗の拳2                                    45.2   \n",
       "刺客侯孝贤                                                            45.7   \n",
       "境界线上的地平线Ⅱ 境界線上のホライゾンⅡ                                            49.9   \n",
       "阿赫迈德王子历险记 Die Abenteuer des Prinzen Achmed                       45.1   \n",
       "维兰德 第三季 Wallander Season 3                                       41.9   \n",
       "风城大佬 第一季 Boss Season 1                                           48.9   \n",
       "偶剧 Screen Play                                                   46.7   \n",
       "\n",
       "                                                    Ratio_Of_FourStar  \\\n",
       "Name                                                                    \n",
       "老友记 第十季 Friends Season 10                                         8.2   \n",
       "人类星球 Human Planet                                                 9.3   \n",
       "是，大臣  第二季 Yes Minister Season 2                                   8.0   \n",
       "是，大臣  第三季 Yes Minister Season 3                                   7.2   \n",
       "是，首相  第二季 Yes, Prime Minister Season 2                            8.3   \n",
       "猎捕 The Hunt                                                       7.6   \n",
       "老友记 第二季 Friends Season 2                                         12.1   \n",
       "老友记  第三季 Friends Season 3                                        12.0   \n",
       "老友记  第四季 Friends Season 4                                        11.4   \n",
       "老友记  第五季 Friends Season 5                                        11.0   \n",
       "老友记  第六季 Friends Season 6                                        10.8   \n",
       "老友记  第七季 Friends Season 7                                        11.0   \n",
       "老友记  第八季 Friends Season 8                                        11.2   \n",
       "老友记  第九季 Friends Season 9                                        11.3   \n",
       "银魂 第二季 銀魂'                                                       10.2   \n",
       "地球脉动 第一季 Planet Earth Season 1                                   11.4   \n",
       "瑞克和莫蒂 第二季 Rick and Morty Season 2                                10.0   \n",
       "久石让在武道馆：与宫崎骏动画一同走过的25年 久石譲 in 武道館 ~宮崎アニメと共に歩んだ25年間               10.7   \n",
       "是，首相 第一季 Yes, Prime Minister Season 1                            12.1   \n",
       "冰冻星球 Frozen Planet                                               10.4   \n",
       "涅磐纽约不插电演唱会 Nirvana: Unplugged In New York                        11.0   \n",
       "BBC：非洲 BBC: Africa                                               11.1   \n",
       "南太平洋 South Pacific                                               13.3   \n",
       "企鹅群里有特务 Penguins: Spy in the Huddle                              13.8   \n",
       "生命 Life                                                          13.2   \n",
       "艺术创想 Art Attack                                                  11.0   \n",
       "剧院魅影：25周年纪念演出 The Phantom of the Opera at the R...               11.6   \n",
       "嵐の宿題くん                                                           10.4   \n",
       "迈克尔·杰克逊-危险之旅之布加勒斯特站 Michael Jackson Live in Buc...               12.1   \n",
       "探险活宝 第四季 Adventure Time Season 4                                 12.7   \n",
       "...                                                               ...   \n",
       "雪地黄金犬 White Fang                                                 45.4   \n",
       "文艺复兴 Renaissance Revolution                                      45.6   \n",
       "钢之炼金术师：单纯的人们 鋼の錬金術師 シンプルな人々                                      38.4   \n",
       "死亡之夜 Dead of Night                                               45.1   \n",
       "费丽丝蒂 第一季 Felicity Season 1                                       38.7   \n",
       "你被写在我的眼睛里 Kismet Diner                                           41.4   \n",
       "他们在岛屿写作：寻找背海的人 他們在島嶼寫作：尋找背海的人                                    45.6   \n",
       "新乱世佳人                                                            38.8   \n",
       "发展受阻 第四季 Arrested Development Season 4                           33.3   \n",
       "天行九歌                                                             31.4   \n",
       "娱乐金鱼眼 きんぎょ注意報！                                                   34.9   \n",
       "特种部队 G.I. Joe                                                    32.9   \n",
       "泰星来客 第一季 Earth: Final Conflict Season 1                          38.5   \n",
       "记录伍迪·艾伦：导演剧场版 Woody Allen: A Documentary                         49.3   \n",
       "人生Best Ten 人生ベストテン                                               42.2   \n",
       "流浪汉 The Tramp                                                    40.4   \n",
       "口袋妖怪：原初之章 ポケットモンスター THE ORIGIN                                   31.3   \n",
       "想吃杂烩面 ちゃんぽん食べたか                                                  40.5   \n",
       "飞狼 Airwolf                                                       38.8   \n",
       "三生三世 聂华苓 三生三世 聶華苓                                                42.6   \n",
       "逍遥法外 第三季 How to Get Away with Murder Season 3                    38.8   \n",
       "围困城堡 La Citadelle assiégée                                       42.4   \n",
       "时代精神3：迈步向前 Zeitgeist: Moving Forward                             32.1   \n",
       "世纪末救世主传说 北斗神拳2 世紀末救世主伝説 北斗の拳2                                    39.5   \n",
       "刺客侯孝贤                                                            41.7   \n",
       "境界线上的地平线Ⅱ 境界線上のホライゾンⅡ                                            31.5   \n",
       "阿赫迈德王子历险记 Die Abenteuer des Prinzen Achmed                       42.6   \n",
       "维兰德 第三季 Wallander Season 3                                       47.0   \n",
       "风城大佬 第一季 Boss Season 1                                           36.8   \n",
       "偶剧 Screen Play                                                   38.3   \n",
       "\n",
       "                                                    Ratio_Of_ThreeStar  \\\n",
       "Name                                                                     \n",
       "老友记 第十季 Friends Season 10                                          1.2   \n",
       "人类星球 Human Planet                                                  1.0   \n",
       "是，大臣  第二季 Yes Minister Season 2                                    0.8   \n",
       "是，大臣  第三季 Yes Minister Season 3                                    1.0   \n",
       "是，首相  第二季 Yes, Prime Minister Season 2                             0.8   \n",
       "猎捕 The Hunt                                                        1.2   \n",
       "老友记 第二季 Friends Season 2                                           1.4   \n",
       "老友记  第三季 Friends Season 3                                          1.4   \n",
       "老友记  第四季 Friends Season 4                                          1.3   \n",
       "老友记  第五季 Friends Season 5                                          1.3   \n",
       "老友记  第六季 Friends Season 6                                          1.3   \n",
       "老友记  第七季 Friends Season 7                                          1.4   \n",
       "老友记  第八季 Friends Season 8                                          1.5   \n",
       "老友记  第九季 Friends Season 9                                          1.6   \n",
       "银魂 第二季 銀魂'                                                         2.0   \n",
       "地球脉动 第一季 Planet Earth Season 1                                     1.6   \n",
       "瑞克和莫蒂 第二季 Rick and Morty Season 2                                  1.0   \n",
       "久石让在武道馆：与宫崎骏动画一同走过的25年 久石譲 in 武道館 ~宮崎アニメと共に歩んだ25年間                 1.3   \n",
       "是，首相 第一季 Yes, Prime Minister Season 1                              1.7   \n",
       "冰冻星球 Frozen Planet                                                 1.0   \n",
       "涅磐纽约不插电演唱会 Nirvana: Unplugged In New York                          1.5   \n",
       "BBC：非洲 BBC: Africa                                                 0.9   \n",
       "南太平洋 South Pacific                                                 1.6   \n",
       "企鹅群里有特务 Penguins: Spy in the Huddle                                1.1   \n",
       "生命 Life                                                            1.0   \n",
       "艺术创想 Art Attack                                                    2.5   \n",
       "剧院魅影：25周年纪念演出 The Phantom of the Opera at the R...                 1.6   \n",
       "嵐の宿題くん                                                             1.6   \n",
       "迈克尔·杰克逊-危险之旅之布加勒斯特站 Michael Jackson Live in Buc...                 1.4   \n",
       "探险活宝 第四季 Adventure Time Season 4                                   1.7   \n",
       "...                                                                ...   \n",
       "雪地黄金犬 White Fang                                                  11.7   \n",
       "文艺复兴 Renaissance Revolution                                        9.9   \n",
       "钢之炼金术师：单纯的人们 鋼の錬金術師 シンプルな人々                                       13.8   \n",
       "死亡之夜 Dead of Night                                                10.2   \n",
       "费丽丝蒂 第一季 Felicity Season 1                                        13.2   \n",
       "你被写在我的眼睛里 Kismet Diner                                            13.1   \n",
       "他们在岛屿写作：寻找背海的人 他們在島嶼寫作：尋找背海的人                                     10.3   \n",
       "新乱世佳人                                                             13.6   \n",
       "发展受阻 第四季 Arrested Development Season 4                            14.4   \n",
       "天行九歌                                                              11.5   \n",
       "娱乐金鱼眼 きんぎょ注意報！                                                    15.3   \n",
       "特种部队 G.I. Joe                                                     16.7   \n",
       "泰星来客 第一季 Earth: Final Conflict Season 1                           12.3   \n",
       "记录伍迪·艾伦：导演剧场版 Woody Allen: A Documentary                           9.7   \n",
       "人生Best Ten 人生ベストテン                                                12.6   \n",
       "流浪汉 The Tramp                                                     13.3   \n",
       "口袋妖怪：原初之章 ポケットモンスター THE ORIGIN                                    15.4   \n",
       "想吃杂烩面 ちゃんぽん食べたか                                                   12.2   \n",
       "飞狼 Airwolf                                                        14.9   \n",
       "三生三世 聂华苓 三生三世 聶華苓                                                 11.3   \n",
       "逍遥法外 第三季 How to Get Away with Murder Season 3                     11.1   \n",
       "围困城堡 La Citadelle assiégée                                        10.8   \n",
       "时代精神3：迈步向前 Zeitgeist: Moving Forward                              11.1   \n",
       "世纪末救世主传说 北斗神拳2 世紀末救世主伝説 北斗の拳2                                     13.9   \n",
       "刺客侯孝贤                                                             10.5   \n",
       "境界线上的地平线Ⅱ 境界線上のホライゾンⅡ                                             16.1   \n",
       "阿赫迈德王子历险记 Die Abenteuer des Prinzen Achmed                        10.9   \n",
       "维兰德 第三季 Wallander Season 3                                        10.2   \n",
       "风城大佬 第一季 Boss Season 1                                            11.7   \n",
       "偶剧 Screen Play                                                    13.1   \n",
       "\n",
       "                                                    Ratio_Of_TwoStar  \\\n",
       "Name                                                                   \n",
       "老友记 第十季 Friends Season 10                                        0.1   \n",
       "人类星球 Human Planet                                                0.1   \n",
       "是，大臣  第二季 Yes Minister Season 2                                  0.0   \n",
       "是，大臣  第三季 Yes Minister Season 3                                  0.1   \n",
       "是，首相  第二季 Yes, Prime Minister Season 2                           0.0   \n",
       "猎捕 The Hunt                                                      0.1   \n",
       "老友记 第二季 Friends Season 2                                         0.0   \n",
       "老友记  第三季 Friends Season 3                                        0.1   \n",
       "老友记  第四季 Friends Season 4                                        0.1   \n",
       "老友记  第五季 Friends Season 5                                        0.0   \n",
       "老友记  第六季 Friends Season 6                                        0.1   \n",
       "老友记  第七季 Friends Season 7                                        0.1   \n",
       "老友记  第八季 Friends Season 8                                        0.1   \n",
       "老友记  第九季 Friends Season 9                                        0.1   \n",
       "银魂 第二季 銀魂'                                                       0.2   \n",
       "地球脉动 第一季 Planet Earth Season 1                                   0.1   \n",
       "瑞克和莫蒂 第二季 Rick and Morty Season 2                                0.1   \n",
       "久石让在武道馆：与宫崎骏动画一同走过的25年 久石譲 in 武道館 ~宮崎アニメと共に歩んだ25年間               0.1   \n",
       "是，首相 第一季 Yes, Prime Minister Season 1                            0.1   \n",
       "冰冻星球 Frozen Planet                                               0.1   \n",
       "涅磐纽约不插电演唱会 Nirvana: Unplugged In New York                        0.1   \n",
       "BBC：非洲 BBC: Africa                                               0.0   \n",
       "南太平洋 South Pacific                                               0.1   \n",
       "企鹅群里有特务 Penguins: Spy in the Huddle                              0.0   \n",
       "生命 Life                                                          0.1   \n",
       "艺术创想 Art Attack                                                  0.0   \n",
       "剧院魅影：25周年纪念演出 The Phantom of the Opera at the R...               0.1   \n",
       "嵐の宿題くん                                                           0.1   \n",
       "迈克尔·杰克逊-危险之旅之布加勒斯特站 Michael Jackson Live in Buc...               0.1   \n",
       "探险活宝 第四季 Adventure Time Season 4                                 0.0   \n",
       "...                                                              ...   \n",
       "雪地黄金犬 White Fang                                                 0.6   \n",
       "文艺复兴 Renaissance Revolution                                      1.0   \n",
       "钢之炼金术师：单纯的人们 鋼の錬金術師 シンプルな人々                                      0.7   \n",
       "死亡之夜 Dead of Night                                               1.1   \n",
       "费丽丝蒂 第一季 Felicity Season 1                                       1.4   \n",
       "你被写在我的眼睛里 Kismet Diner                                           0.8   \n",
       "他们在岛屿写作：寻找背海的人 他們在島嶼寫作：尋找背海的人                                    0.9   \n",
       "新乱世佳人                                                            0.7   \n",
       "发展受阻 第四季 Arrested Development Season 4                           2.4   \n",
       "天行九歌                                                             2.4   \n",
       "娱乐金鱼眼 きんぎょ注意報！                                                   0.6   \n",
       "特种部队 G.I. Joe                                                    0.9   \n",
       "泰星来客 第一季 Earth: Final Conflict Season 1                          1.1   \n",
       "记录伍迪·艾伦：导演剧场版 Woody Allen: A Documentary                         0.5   \n",
       "人生Best Ten 人生ベストテン                                               1.1   \n",
       "流浪汉 The Tramp                                                    0.7   \n",
       "口袋妖怪：原初之章 ポケットモンスター THE ORIGIN                                   0.9   \n",
       "想吃杂烩面 ちゃんぽん食べたか                                                  1.1   \n",
       "飞狼 Airwolf                                                       0.5   \n",
       "三生三世 聂华苓 三生三世 聶華苓                                                1.4   \n",
       "逍遥法外 第三季 How to Get Away with Murder Season 3                    1.3   \n",
       "围困城堡 La Citadelle assiégée                                       0.5   \n",
       "时代精神3：迈步向前 Zeitgeist: Moving Forward                             2.8   \n",
       "世纪末救世主传说 北斗神拳2 世紀末救世主伝説 北斗の拳2                                    1.2   \n",
       "刺客侯孝贤                                                            1.2   \n",
       "境界线上的地平线Ⅱ 境界線上のホライゾンⅡ                                            1.6   \n",
       "阿赫迈德王子历险记 Die Abenteuer des Prinzen Achmed                       1.0   \n",
       "维兰德 第三季 Wallander Season 3                                       0.7   \n",
       "风城大佬 第一季 Boss Season 1                                           2.4   \n",
       "偶剧 Screen Play                                                   1.7   \n",
       "\n",
       "                                                    Ratio_Of_OneStar  \n",
       "Name                                                                  \n",
       "老友记 第十季 Friends Season 10                                        0.1  \n",
       "人类星球 Human Planet                                                0.2  \n",
       "是，大臣  第二季 Yes Minister Season 2                                  0.0  \n",
       "是，大臣  第三季 Yes Minister Season 3                                  0.2  \n",
       "是，首相  第二季 Yes, Prime Minister Season 2                           0.2  \n",
       "猎捕 The Hunt                                                      0.3  \n",
       "老友记 第二季 Friends Season 2                                         0.0  \n",
       "老友记  第三季 Friends Season 3                                        0.0  \n",
       "老友记  第四季 Friends Season 4                                        0.0  \n",
       "老友记  第五季 Friends Season 5                                        0.0  \n",
       "老友记  第六季 Friends Season 6                                        0.0  \n",
       "老友记  第七季 Friends Season 7                                        0.0  \n",
       "老友记  第八季 Friends Season 8                                        0.0  \n",
       "老友记  第九季 Friends Season 9                                        0.1  \n",
       "银魂 第二季 銀魂'                                                       0.3  \n",
       "地球脉动 第一季 Planet Earth Season 1                                   0.1  \n",
       "瑞克和莫蒂 第二季 Rick and Morty Season 2                                0.1  \n",
       "久石让在武道馆：与宫崎骏动画一同走过的25年 久石譲 in 武道館 ~宮崎アニメと共に歩んだ25年間               0.1  \n",
       "是，首相 第一季 Yes, Prime Minister Season 1                            0.1  \n",
       "冰冻星球 Frozen Planet                                               0.1  \n",
       "涅磐纽约不插电演唱会 Nirvana: Unplugged In New York                        0.1  \n",
       "BBC：非洲 BBC: Africa                                               0.1  \n",
       "南太平洋 South Pacific                                               0.1  \n",
       "企鹅群里有特务 Penguins: Spy in the Huddle                              0.1  \n",
       "生命 Life                                                          0.1  \n",
       "艺术创想 Art Attack                                                  0.1  \n",
       "剧院魅影：25周年纪念演出 The Phantom of the Opera at the R...               0.0  \n",
       "嵐の宿題くん                                                           0.3  \n",
       "迈克尔·杰克逊-危险之旅之布加勒斯特站 Michael Jackson Live in Buc...               0.3  \n",
       "探险活宝 第四季 Adventure Time Season 4                                 0.2  \n",
       "...                                                              ...  \n",
       "雪地黄金犬 White Fang                                                 0.1  \n",
       "文艺复兴 Renaissance Revolution                                      0.2  \n",
       "钢之炼金术师：单纯的人们 鋼の錬金術師 シンプルな人々                                      0.0  \n",
       "死亡之夜 Dead of Night                                               0.6  \n",
       "费丽丝蒂 第一季 Felicity Season 1                                       0.3  \n",
       "你被写在我的眼睛里 Kismet Diner                                           0.3  \n",
       "他们在岛屿写作：寻找背海的人 他們在島嶼寫作：尋找背海的人                                    0.1  \n",
       "新乱世佳人                                                            0.6  \n",
       "发展受阻 第四季 Arrested Development Season 4                           0.7  \n",
       "天行九歌                                                             2.2  \n",
       "娱乐金鱼眼 きんぎょ注意報！                                                   0.1  \n",
       "特种部队 G.I. Joe                                                    0.0  \n",
       "泰星来客 第一季 Earth: Final Conflict Season 1                          0.5  \n",
       "记录伍迪·艾伦：导演剧场版 Woody Allen: A Documentary                         0.1  \n",
       "人生Best Ten 人生ベストテン                                               0.1  \n",
       "流浪汉 The Tramp                                                    0.0  \n",
       "口袋妖怪：原初之章 ポケットモンスター THE ORIGIN                                   1.1  \n",
       "想吃杂烩面 ちゃんぽん食べたか                                                  0.1  \n",
       "飞狼 Airwolf                                                       0.3  \n",
       "三生三世 聂华苓 三生三世 聶華苓                                                0.0  \n",
       "逍遥法外 第三季 How to Get Away with Murder Season 3                    0.7  \n",
       "围困城堡 La Citadelle assiégée                                       0.8  \n",
       "时代精神3：迈步向前 Zeitgeist: Moving Forward                             1.4  \n",
       "世纪末救世主传说 北斗神拳2 世紀末救世主伝説 北斗の拳2                                    0.1  \n",
       "刺客侯孝贤                                                            0.9  \n",
       "境界线上的地平线Ⅱ 境界線上のホライゾンⅡ                                            1.0  \n",
       "阿赫迈德王子历险记 Die Abenteuer des Prinzen Achmed                       0.4  \n",
       "维兰德 第三季 Wallander Season 3                                       0.3  \n",
       "风城大佬 第一季 Boss Season 1                                           0.1  \n",
       "偶剧 Screen Play                                                   0.3  \n",
       "\n",
       "[2259 rows x 12 columns]"
      ]
     },
     "execution_count": 89,
     "metadata": {},
     "output_type": "execute_result"
    }
   ],
   "source": [
    "recommendation"
   ]
  },
  {
   "cell_type": "code",
   "execution_count": 90,
   "metadata": {
    "collapsed": true
   },
   "outputs": [],
   "source": [
    "#推荐作品"
   ]
  },
  {
   "cell_type": "code",
   "execution_count": null,
   "metadata": {
    "collapsed": true
   },
   "outputs": [],
   "source": []
  }
 ],
 "metadata": {
  "anaconda-cloud": {},
  "kernelspec": {
   "display_name": "Python [default]",
   "language": "python",
   "name": "python3"
  },
  "language_info": {
   "codemirror_mode": {
    "name": "ipython",
    "version": 3
   },
   "file_extension": ".py",
   "mimetype": "text/x-python",
   "name": "python",
   "nbconvert_exporter": "python",
   "pygments_lexer": "ipython3",
   "version": "3.5.2"
  }
 },
 "nbformat": 4,
 "nbformat_minor": 1
}
